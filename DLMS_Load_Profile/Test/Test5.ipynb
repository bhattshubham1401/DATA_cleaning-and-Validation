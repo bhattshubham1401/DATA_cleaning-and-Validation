{
 "cells": [
  {
   "cell_type": "code",
   "execution_count": 1,
   "metadata": {},
   "outputs": [],
   "source": [
    "import pandas as pd\n",
    "import numpy as np\n",
    "import matplotlib.pyplot as plt\n",
    "%matplotlib inline\n",
    "plt.rcParams['figure.figsize']=(20,5)\n",
    "import plotly.express as px\n",
    "\n",
    "import warnings\n",
    "warnings.filterwarnings(\"ignore\")\n",
    "\n",
    "from statsmodels.tsa.seasonal import seasonal_decompose\n",
    "from dateutil.parser import parse\n",
    "import pandas as pd\n",
    "from statsmodels.tsa.stattools import adfuller\n",
    "import pyarrow.parquet as pq"
   ]
  },
  {
   "cell_type": "code",
   "execution_count": 2,
   "metadata": {},
   "outputs": [],
   "source": [
    "dframe=pd.read_parquet(\"d:/Data_Files/DLMS Load Profile/data.parquet\")"
   ]
  },
  {
   "cell_type": "code",
   "execution_count": 3,
   "metadata": {},
   "outputs": [],
   "source": [
    "dframe['Kwh']=dframe['Kwh']/1000\n",
    "id=dframe['sensor'].unique()\n"
   ]
  },
  {
   "cell_type": "code",
   "execution_count": 4,
   "metadata": {},
   "outputs": [],
   "source": [
    "dframe = dframe.groupby('sensor')"
   ]
  },
  {
   "cell_type": "code",
   "execution_count": 10,
   "metadata": {},
   "outputs": [
    {
     "name": "stdout",
     "output_type": "stream",
     "text": [
      "('5f718c439c7a78.65267835',                         sensor               Clock  R_Voltage  Y_Voltage  \\\n",
      "0      5f718c439c7a78.65267835 2022-11-18 00:30:00     6499.0     6514.0   \n",
      "1      5f718c439c7a78.65267835 2022-11-18 01:00:00     6520.0     6535.0   \n",
      "2      5f718c439c7a78.65267835 2022-11-18 01:30:00     6536.0     6551.0   \n",
      "3      5f718c439c7a78.65267835 2022-11-18 02:00:00     6576.0     6591.0   \n",
      "4      5f718c439c7a78.65267835 2022-11-18 02:30:00     6590.0     6605.0   \n",
      "...                        ...                 ...        ...        ...   \n",
      "16703  5f718c439c7a78.65267835 2023-11-01 00:30:00     6426.0     6451.0   \n",
      "16704  5f718c439c7a78.65267835 2023-11-01 01:00:00     6447.0     6473.0   \n",
      "16705  5f718c439c7a78.65267835 2023-11-01 01:30:00     6473.0     6497.0   \n",
      "16706  5f718c439c7a78.65267835 2023-11-01 02:00:00     6491.0     6512.0   \n",
      "16717  5f718c439c7a78.65267835 2023-10-31 23:30:00     6328.0     6357.0   \n",
      "\n",
      "       B_Voltage  R_Current  Y_Current  B_Current    Kwh  \n",
      "0         6473.0      27.74      27.42      25.57  261.3  \n",
      "1         6494.0      27.29      26.84      24.40  254.3  \n",
      "2         6511.0      27.06      27.00      24.37  254.8  \n",
      "3         6550.0      25.49      25.53      23.30  242.6  \n",
      "4         6564.0      25.21      24.74      23.09  238.9  \n",
      "...          ...        ...        ...        ...    ...  \n",
      "16703     6390.0      47.78      44.16      43.67  431.9  \n",
      "16704     6414.0      46.20      42.72      42.53  420.3  \n",
      "16705     6437.0      43.15      39.89      40.01  394.8  \n",
      "16706     6455.0      42.11      39.10      38.80  386.1  \n",
      "16717     6294.0      54.86      50.40      51.77  493.9  \n",
      "\n",
      "[16708 rows x 9 columns])\n",
      "<class 'tuple'>\n",
      "('62a9920f75c931.62399458',                         sensor               Clock  R_Voltage  Y_Voltage  \\\n",
      "16707  62a9920f75c931.62399458 2022-05-13 00:30:00     6094.0     6090.0   \n",
      "16708  62a9920f75c931.62399458 2022-05-13 01:00:00     6154.0     6144.0   \n",
      "16709  62a9920f75c931.62399458 2022-05-13 01:30:00     6189.0     6186.0   \n",
      "16710  62a9920f75c931.62399458 2022-05-13 02:00:00     6219.0     6211.0   \n",
      "16711  62a9920f75c931.62399458 2022-05-13 02:30:00     6249.0     6241.0   \n",
      "...                        ...                 ...        ...        ...   \n",
      "38361  62a9920f75c931.62399458 2023-11-01 10:00:00     6021.0     6006.0   \n",
      "38362  62a9920f75c931.62399458 2023-11-01 10:30:00     6009.0     5995.0   \n",
      "38363  62a9920f75c931.62399458 2023-11-01 11:00:00     6024.0     6012.0   \n",
      "38364  62a9920f75c931.62399458 2023-11-01 11:30:00     6029.0     6016.0   \n",
      "38365  62a9920f75c931.62399458 2023-11-01 12:00:00     6019.0     6007.0   \n",
      "\n",
      "       B_Voltage  R_Current  Y_Current  B_Current    Kwh  \n",
      "16707     6056.0      59.13      57.67      48.40  496.9  \n",
      "16708     6113.0      55.42      54.02      45.46  469.7  \n",
      "16709     6151.0      53.86      52.04      44.72  459.1  \n",
      "16710     6176.0      52.02      50.49      43.43  446.1  \n",
      "16711     6205.0      50.18      50.31      41.89  437.3  \n",
      "...          ...        ...        ...        ...    ...  \n",
      "38361     5968.0      18.01      14.66      18.98  153.8  \n",
      "38362     5960.0      17.24      15.09      17.22  147.7  \n",
      "38363     5976.0      17.84      14.13      17.95  149.0  \n",
      "38364     5978.0      15.22      12.04      15.57  127.7  \n",
      "38365     5969.0      14.36      12.28      14.71  123.6  \n",
      "\n",
      "[21658 rows x 9 columns])\n",
      "<class 'tuple'>\n"
     ]
    }
   ],
   "source": [
    "lst=[]\n",
    "for i in dframe:\n",
    "    df=i\n",
    "    print(df)\n",
    "    print(type(df))\n",
    "    lst.append(df)"
   ]
  },
  {
   "cell_type": "code",
   "execution_count": 12,
   "metadata": {},
   "outputs": [],
   "source": [
    "df=lst[0]"
   ]
  },
  {
   "cell_type": "code",
   "execution_count": 13,
   "metadata": {},
   "outputs": [
    {
     "ename": "AttributeError",
     "evalue": "'tuple' object has no attribute 'head'",
     "output_type": "error",
     "traceback": [
      "\u001b[1;31m---------------------------------------------------------------------------\u001b[0m",
      "\u001b[1;31mAttributeError\u001b[0m                            Traceback (most recent call last)",
      "\u001b[1;32md:\\Harsh_git\\DLMS_Load_Profile\\Test\\Test5.ipynb Cell 7\u001b[0m line \u001b[0;36m1\n\u001b[1;32m----> <a href='vscode-notebook-cell:/d%3A/Harsh_git/DLMS_Load_Profile/Test/Test5.ipynb#X26sZmlsZQ%3D%3D?line=0'>1</a>\u001b[0m df\u001b[39m.\u001b[39;49mhead()\n",
      "\u001b[1;31mAttributeError\u001b[0m: 'tuple' object has no attribute 'head'"
     ]
    }
   ],
   "source": [
    "df.head()"
   ]
  },
  {
   "cell_type": "code",
   "execution_count": null,
   "metadata": {},
   "outputs": [],
   "source": []
  },
  {
   "cell_type": "code",
   "execution_count": null,
   "metadata": {},
   "outputs": [],
   "source": []
  },
  {
   "cell_type": "code",
   "execution_count": 9,
   "metadata": {},
   "outputs": [
    {
     "data": {
      "text/plain": [
       "('62a9920f75c931.62399458',\n",
       "                         sensor               Clock  R_Voltage  Y_Voltage  \\\n",
       " 16707  62a9920f75c931.62399458 2022-05-13 00:30:00     6094.0     6090.0   \n",
       " 16708  62a9920f75c931.62399458 2022-05-13 01:00:00     6154.0     6144.0   \n",
       " 16709  62a9920f75c931.62399458 2022-05-13 01:30:00     6189.0     6186.0   \n",
       " 16710  62a9920f75c931.62399458 2022-05-13 02:00:00     6219.0     6211.0   \n",
       " 16711  62a9920f75c931.62399458 2022-05-13 02:30:00     6249.0     6241.0   \n",
       " ...                        ...                 ...        ...        ...   \n",
       " 38361  62a9920f75c931.62399458 2023-11-01 10:00:00     6021.0     6006.0   \n",
       " 38362  62a9920f75c931.62399458 2023-11-01 10:30:00     6009.0     5995.0   \n",
       " 38363  62a9920f75c931.62399458 2023-11-01 11:00:00     6024.0     6012.0   \n",
       " 38364  62a9920f75c931.62399458 2023-11-01 11:30:00     6029.0     6016.0   \n",
       " 38365  62a9920f75c931.62399458 2023-11-01 12:00:00     6019.0     6007.0   \n",
       " \n",
       "        B_Voltage  R_Current  Y_Current  B_Current    Kwh  \n",
       " 16707     6056.0      59.13      57.67      48.40  496.9  \n",
       " 16708     6113.0      55.42      54.02      45.46  469.7  \n",
       " 16709     6151.0      53.86      52.04      44.72  459.1  \n",
       " 16710     6176.0      52.02      50.49      43.43  446.1  \n",
       " 16711     6205.0      50.18      50.31      41.89  437.3  \n",
       " ...          ...        ...        ...        ...    ...  \n",
       " 38361     5968.0      18.01      14.66      18.98  153.8  \n",
       " 38362     5960.0      17.24      15.09      17.22  147.7  \n",
       " 38363     5976.0      17.84      14.13      17.95  149.0  \n",
       " 38364     5978.0      15.22      12.04      15.57  127.7  \n",
       " 38365     5969.0      14.36      12.28      14.71  123.6  \n",
       " \n",
       " [21658 rows x 9 columns])"
      ]
     },
     "execution_count": 9,
     "metadata": {},
     "output_type": "execute_result"
    }
   ],
   "source": [
    "df"
   ]
  },
  {
   "cell_type": "code",
   "execution_count": null,
   "metadata": {},
   "outputs": [],
   "source": []
  },
  {
   "cell_type": "code",
   "execution_count": null,
   "metadata": {},
   "outputs": [],
   "source": []
  },
  {
   "cell_type": "code",
   "execution_count": null,
   "metadata": {},
   "outputs": [],
   "source": []
  },
  {
   "cell_type": "code",
   "execution_count": null,
   "metadata": {},
   "outputs": [],
   "source": [
    "lst=[]\n",
    "dframe = dframe.groupby('sensor')\n",
    "for each_id  in dframe:\n",
    "    df=each_id\n",
    "\n",
    "\n",
    "for location in id:\n",
    "    df=dframe[dframe['sensor'] == location ]\n",
    "    # df['Clock']=pd.to_datetime(df['Clock'])\n",
    "    df.set_index(['Clock'],inplace=True,drop= True)\n",
    "    df = df[df.index >= '2022-11-18 00:00:00']\n",
    "    filtered_df = df[((df['R_Voltage'] == 0) | (df['Y_Voltage'] == 0) | (df['B_Voltage'] == 0)) & \n",
    "                     ((df['R_Current'] == 0) | (df['Y_Current'] == 0) | (df['B_Current'] == 0))]\n",
    "    filtered_df['Kwh'] = 0\n",
    "    df.loc[filtered_df.index, :] = filtered_df\n",
    "    df=df[['Kwh']].resample(rule='1H').sum()\n",
    "    # df['id']=location\n",
    "    df['Kwh_r']=df['Kwh'].rolling(window=24).mean()\n",
    "    df.dropna(inplace=True)\n",
    "\n",
    "    lst.append(df)"
   ]
  },
  {
   "cell_type": "code",
   "execution_count": 19,
   "metadata": {},
   "outputs": [
    {
     "name": "stdout",
     "output_type": "stream",
     "text": [
      "                        sensor               Clock  R_Voltage  Y_Voltage  \\\n",
      "0      5f718c439c7a78.65267835 2022-11-18 00:30:00     6499.0     6514.0   \n",
      "1      5f718c439c7a78.65267835 2022-11-18 01:00:00     6520.0     6535.0   \n",
      "2      5f718c439c7a78.65267835 2022-11-18 01:30:00     6536.0     6551.0   \n",
      "3      5f718c439c7a78.65267835 2022-11-18 02:00:00     6576.0     6591.0   \n",
      "4      5f718c439c7a78.65267835 2022-11-18 02:30:00     6590.0     6605.0   \n",
      "...                        ...                 ...        ...        ...   \n",
      "16703  5f718c439c7a78.65267835 2023-11-01 00:30:00     6426.0     6451.0   \n",
      "16704  5f718c439c7a78.65267835 2023-11-01 01:00:00     6447.0     6473.0   \n",
      "16705  5f718c439c7a78.65267835 2023-11-01 01:30:00     6473.0     6497.0   \n",
      "16706  5f718c439c7a78.65267835 2023-11-01 02:00:00     6491.0     6512.0   \n",
      "16717  5f718c439c7a78.65267835 2023-10-31 23:30:00     6328.0     6357.0   \n",
      "\n",
      "       B_Voltage  R_Current  Y_Current  B_Current     Kwh  \n",
      "0         6473.0      27.74      27.42      25.57  0.2613  \n",
      "1         6494.0      27.29      26.84      24.40  0.2543  \n",
      "2         6511.0      27.06      27.00      24.37  0.2548  \n",
      "3         6550.0      25.49      25.53      23.30  0.2426  \n",
      "4         6564.0      25.21      24.74      23.09  0.2389  \n",
      "...          ...        ...        ...        ...     ...  \n",
      "16703     6390.0      47.78      44.16      43.67  0.4319  \n",
      "16704     6414.0      46.20      42.72      42.53  0.4203  \n",
      "16705     6437.0      43.15      39.89      40.01  0.3948  \n",
      "16706     6455.0      42.11      39.10      38.80  0.3861  \n",
      "16717     6294.0      54.86      50.40      51.77  0.4939  \n",
      "\n",
      "[16708 rows x 9 columns]\n",
      "<class 'pandas.core.frame.DataFrame'>\n",
      "                        sensor               Clock  R_Voltage  Y_Voltage  \\\n",
      "16707  62a9920f75c931.62399458 2022-05-13 00:30:00     6094.0     6090.0   \n",
      "16708  62a9920f75c931.62399458 2022-05-13 01:00:00     6154.0     6144.0   \n",
      "16709  62a9920f75c931.62399458 2022-05-13 01:30:00     6189.0     6186.0   \n",
      "16710  62a9920f75c931.62399458 2022-05-13 02:00:00     6219.0     6211.0   \n",
      "16711  62a9920f75c931.62399458 2022-05-13 02:30:00     6249.0     6241.0   \n",
      "...                        ...                 ...        ...        ...   \n",
      "38361  62a9920f75c931.62399458 2023-11-01 10:00:00     6021.0     6006.0   \n",
      "38362  62a9920f75c931.62399458 2023-11-01 10:30:00     6009.0     5995.0   \n",
      "38363  62a9920f75c931.62399458 2023-11-01 11:00:00     6024.0     6012.0   \n",
      "38364  62a9920f75c931.62399458 2023-11-01 11:30:00     6029.0     6016.0   \n",
      "38365  62a9920f75c931.62399458 2023-11-01 12:00:00     6019.0     6007.0   \n",
      "\n",
      "       B_Voltage  R_Current  Y_Current  B_Current     Kwh  \n",
      "16707     6056.0      59.13      57.67      48.40  0.4969  \n",
      "16708     6113.0      55.42      54.02      45.46  0.4697  \n",
      "16709     6151.0      53.86      52.04      44.72  0.4591  \n",
      "16710     6176.0      52.02      50.49      43.43  0.4461  \n",
      "16711     6205.0      50.18      50.31      41.89  0.4373  \n",
      "...          ...        ...        ...        ...     ...  \n",
      "38361     5968.0      18.01      14.66      18.98  0.1538  \n",
      "38362     5960.0      17.24      15.09      17.22  0.1477  \n",
      "38363     5976.0      17.84      14.13      17.95  0.1490  \n",
      "38364     5978.0      15.22      12.04      15.57  0.1277  \n",
      "38365     5969.0      14.36      12.28      14.71  0.1236  \n",
      "\n",
      "[21658 rows x 9 columns]\n",
      "<class 'pandas.core.frame.DataFrame'>\n"
     ]
    }
   ],
   "source": [
    "lst=[]\n",
    "sensor_groups = dframe.groupby('sensor')\n",
    "\n",
    "# Iterate over groups\n",
    "for location, group_df in sensor_groups:\n",
    "    print(group_df)\n",
    "    print(type(group_df))\n",
    "    # 'location' will be the sensor value, and 'group_df' will be the corresponding DataFrame\n",
    "    # You can perform operations on 'group_df' here\n",
    "    # If you want to append the result to a list, you can do something like:\n",
    "    lst.append(group_df)"
   ]
  },
  {
   "cell_type": "code",
   "execution_count": 16,
   "metadata": {},
   "outputs": [
    {
     "data": {
      "text/plain": [
       "<pandas.core.groupby.generic.DataFrameGroupBy object at 0x000001E674562E50>"
      ]
     },
     "execution_count": 16,
     "metadata": {},
     "output_type": "execute_result"
    }
   ],
   "source": [
    "sensor_groups"
   ]
  },
  {
   "cell_type": "code",
   "execution_count": null,
   "metadata": {},
   "outputs": [],
   "source": []
  },
  {
   "cell_type": "code",
   "execution_count": null,
   "metadata": {},
   "outputs": [],
   "source": []
  },
  {
   "cell_type": "code",
   "execution_count": null,
   "metadata": {},
   "outputs": [],
   "source": []
  },
  {
   "cell_type": "code",
   "execution_count": null,
   "metadata": {},
   "outputs": [],
   "source": [
    "\n",
    "df=lst[0]\n",
    "df\n",
    "df['Kwh'].describe()\n",
    "\n",
    "result=adfuller(df['Kwh'],autolag='AIC')\n",
    "print('ADF Statistic:', result[0])\n",
    "print('p-value:', result[1])\n",
    "print('Critical Values:', result[4])\n",
    "\n"
   ]
  },
  {
   "cell_type": "code",
   "execution_count": 20,
   "metadata": {},
   "outputs": [
    {
     "name": "stdout",
     "output_type": "stream",
     "text": [
      "Sensor: A\n",
      "  sensor  value\n",
      "0      A      1\n",
      "2      A      3\n",
      "4      A      5\n",
      "Sensor: B\n",
      "  sensor  value\n",
      "1      B      2\n",
      "3      B      4\n",
      "5      B      6\n"
     ]
    }
   ],
   "source": [
    "import pandas as pd\n",
    "\n",
    "# Creating a sample DataFrame\n",
    "data = {'sensor': ['A', 'B', 'A', 'B', 'A', 'B'],\n",
    "        'value': [1, 2, 3, 4, 5, 6]}\n",
    "df = pd.DataFrame(data)\n",
    "\n",
    "# Grouping by the 'sensor' column\n",
    "grouped = df.groupby('sensor')\n",
    "\n",
    "# Iterating over groups\n",
    "for name, group in grouped:\n",
    "    print(f\"Sensor: {name}\")\n",
    "    print(group)"
   ]
  },
  {
   "cell_type": "code",
   "execution_count": null,
   "metadata": {},
   "outputs": [],
   "source": []
  }
 ],
 "metadata": {
  "kernelspec": {
   "display_name": "base",
   "language": "python",
   "name": "python3"
  },
  "language_info": {
   "codemirror_mode": {
    "name": "ipython",
    "version": 3
   },
   "file_extension": ".py",
   "mimetype": "text/x-python",
   "name": "python",
   "nbconvert_exporter": "python",
   "pygments_lexer": "ipython3",
   "version": "3.11.4"
  }
 },
 "nbformat": 4,
 "nbformat_minor": 2
}
