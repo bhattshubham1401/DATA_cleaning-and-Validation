{
 "cells": [
  {
   "cell_type": "code",
   "execution_count": 1,
   "metadata": {},
   "outputs": [],
   "source": [
    "import pandas as pd\n",
    "import numpy as np\n",
    "import matplotlib.pyplot as plt \n",
    "%matplotlib inline\n",
    "plt.rcParams['figure.figsize']=(20,5)\n",
    "import plotly.express as px\n",
    "\n",
    "import warnings\n",
    "warnings.filterwarnings(\"ignore\")\n",
    "\n",
    "from statsmodels.tsa.seasonal import seasonal_decompose\n",
    "from dateutil.parser import parse\n",
    "import pandas as pd\n",
    "from statsmodels.tsa.stattools import adfuller\n",
    "import pyarrow.parquet as pq"
   ]
  },
  {
   "cell_type": "code",
   "execution_count": 2,
   "metadata": {},
   "outputs": [],
   "source": [
    "table = pq.read_table('D:/Data_Files/DLMS Load Profile/data.parquet')\n",
    "\n",
    "# Convert it to a Pandas DataFrame (optional)\n",
    "dframe = table.to_pandas()"
   ]
  },
  {
   "cell_type": "code",
   "execution_count": 3,
   "metadata": {},
   "outputs": [],
   "source": [
    "dframe.head(1)\n",
    "dframe['Kwh']=dframe['Kwh']/1000\n",
    "dframe['time']=dframe['Clock']"
   ]
  },
  {
   "cell_type": "code",
   "execution_count": 4,
   "metadata": {},
   "outputs": [
    {
     "data": {
      "text/html": [
       "<div>\n",
       "<style scoped>\n",
       "    .dataframe tbody tr th:only-of-type {\n",
       "        vertical-align: middle;\n",
       "    }\n",
       "\n",
       "    .dataframe tbody tr th {\n",
       "        vertical-align: top;\n",
       "    }\n",
       "\n",
       "    .dataframe thead th {\n",
       "        text-align: right;\n",
       "    }\n",
       "</style>\n",
       "<table border=\"1\" class=\"dataframe\">\n",
       "  <thead>\n",
       "    <tr style=\"text-align: right;\">\n",
       "      <th></th>\n",
       "      <th>sensor</th>\n",
       "      <th>Clock</th>\n",
       "      <th>R_Voltage</th>\n",
       "      <th>Y_Voltage</th>\n",
       "      <th>B_Voltage</th>\n",
       "      <th>R_Current</th>\n",
       "      <th>Y_Current</th>\n",
       "      <th>B_Current</th>\n",
       "      <th>Kwh</th>\n",
       "      <th>time</th>\n",
       "    </tr>\n",
       "  </thead>\n",
       "  <tbody>\n",
       "    <tr>\n",
       "      <th>0</th>\n",
       "      <td>5f718c439c7a78.65267835</td>\n",
       "      <td>2022-11-18 00:30:00</td>\n",
       "      <td>6499.0</td>\n",
       "      <td>6514.0</td>\n",
       "      <td>6473.0</td>\n",
       "      <td>27.74</td>\n",
       "      <td>27.42</td>\n",
       "      <td>25.57</td>\n",
       "      <td>261.3</td>\n",
       "      <td>2022-11-18 00:30:00</td>\n",
       "    </tr>\n",
       "    <tr>\n",
       "      <th>1</th>\n",
       "      <td>5f718c439c7a78.65267835</td>\n",
       "      <td>2022-11-18 01:00:00</td>\n",
       "      <td>6520.0</td>\n",
       "      <td>6535.0</td>\n",
       "      <td>6494.0</td>\n",
       "      <td>27.29</td>\n",
       "      <td>26.84</td>\n",
       "      <td>24.40</td>\n",
       "      <td>254.3</td>\n",
       "      <td>2022-11-18 01:00:00</td>\n",
       "    </tr>\n",
       "    <tr>\n",
       "      <th>2</th>\n",
       "      <td>5f718c439c7a78.65267835</td>\n",
       "      <td>2022-11-18 01:30:00</td>\n",
       "      <td>6536.0</td>\n",
       "      <td>6551.0</td>\n",
       "      <td>6511.0</td>\n",
       "      <td>27.06</td>\n",
       "      <td>27.00</td>\n",
       "      <td>24.37</td>\n",
       "      <td>254.8</td>\n",
       "      <td>2022-11-18 01:30:00</td>\n",
       "    </tr>\n",
       "    <tr>\n",
       "      <th>3</th>\n",
       "      <td>5f718c439c7a78.65267835</td>\n",
       "      <td>2022-11-18 02:00:00</td>\n",
       "      <td>6576.0</td>\n",
       "      <td>6591.0</td>\n",
       "      <td>6550.0</td>\n",
       "      <td>25.49</td>\n",
       "      <td>25.53</td>\n",
       "      <td>23.30</td>\n",
       "      <td>242.6</td>\n",
       "      <td>2022-11-18 02:00:00</td>\n",
       "    </tr>\n",
       "    <tr>\n",
       "      <th>4</th>\n",
       "      <td>5f718c439c7a78.65267835</td>\n",
       "      <td>2022-11-18 02:30:00</td>\n",
       "      <td>6590.0</td>\n",
       "      <td>6605.0</td>\n",
       "      <td>6564.0</td>\n",
       "      <td>25.21</td>\n",
       "      <td>24.74</td>\n",
       "      <td>23.09</td>\n",
       "      <td>238.9</td>\n",
       "      <td>2022-11-18 02:30:00</td>\n",
       "    </tr>\n",
       "    <tr>\n",
       "      <th>...</th>\n",
       "      <td>...</td>\n",
       "      <td>...</td>\n",
       "      <td>...</td>\n",
       "      <td>...</td>\n",
       "      <td>...</td>\n",
       "      <td>...</td>\n",
       "      <td>...</td>\n",
       "      <td>...</td>\n",
       "      <td>...</td>\n",
       "      <td>...</td>\n",
       "    </tr>\n",
       "    <tr>\n",
       "      <th>38361</th>\n",
       "      <td>62a9920f75c931.62399458</td>\n",
       "      <td>2023-11-01 10:00:00</td>\n",
       "      <td>6021.0</td>\n",
       "      <td>6006.0</td>\n",
       "      <td>5968.0</td>\n",
       "      <td>18.01</td>\n",
       "      <td>14.66</td>\n",
       "      <td>18.98</td>\n",
       "      <td>153.8</td>\n",
       "      <td>2023-11-01 10:00:00</td>\n",
       "    </tr>\n",
       "    <tr>\n",
       "      <th>38362</th>\n",
       "      <td>62a9920f75c931.62399458</td>\n",
       "      <td>2023-11-01 10:30:00</td>\n",
       "      <td>6009.0</td>\n",
       "      <td>5995.0</td>\n",
       "      <td>5960.0</td>\n",
       "      <td>17.24</td>\n",
       "      <td>15.09</td>\n",
       "      <td>17.22</td>\n",
       "      <td>147.7</td>\n",
       "      <td>2023-11-01 10:30:00</td>\n",
       "    </tr>\n",
       "    <tr>\n",
       "      <th>38363</th>\n",
       "      <td>62a9920f75c931.62399458</td>\n",
       "      <td>2023-11-01 11:00:00</td>\n",
       "      <td>6024.0</td>\n",
       "      <td>6012.0</td>\n",
       "      <td>5976.0</td>\n",
       "      <td>17.84</td>\n",
       "      <td>14.13</td>\n",
       "      <td>17.95</td>\n",
       "      <td>149.0</td>\n",
       "      <td>2023-11-01 11:00:00</td>\n",
       "    </tr>\n",
       "    <tr>\n",
       "      <th>38364</th>\n",
       "      <td>62a9920f75c931.62399458</td>\n",
       "      <td>2023-11-01 11:30:00</td>\n",
       "      <td>6029.0</td>\n",
       "      <td>6016.0</td>\n",
       "      <td>5978.0</td>\n",
       "      <td>15.22</td>\n",
       "      <td>12.04</td>\n",
       "      <td>15.57</td>\n",
       "      <td>127.7</td>\n",
       "      <td>2023-11-01 11:30:00</td>\n",
       "    </tr>\n",
       "    <tr>\n",
       "      <th>38365</th>\n",
       "      <td>62a9920f75c931.62399458</td>\n",
       "      <td>2023-11-01 12:00:00</td>\n",
       "      <td>6019.0</td>\n",
       "      <td>6007.0</td>\n",
       "      <td>5969.0</td>\n",
       "      <td>14.36</td>\n",
       "      <td>12.28</td>\n",
       "      <td>14.71</td>\n",
       "      <td>123.6</td>\n",
       "      <td>2023-11-01 12:00:00</td>\n",
       "    </tr>\n",
       "  </tbody>\n",
       "</table>\n",
       "<p>38366 rows × 10 columns</p>\n",
       "</div>"
      ],
      "text/plain": [
       "                        sensor               Clock  R_Voltage  Y_Voltage  \\\n",
       "0      5f718c439c7a78.65267835 2022-11-18 00:30:00     6499.0     6514.0   \n",
       "1      5f718c439c7a78.65267835 2022-11-18 01:00:00     6520.0     6535.0   \n",
       "2      5f718c439c7a78.65267835 2022-11-18 01:30:00     6536.0     6551.0   \n",
       "3      5f718c439c7a78.65267835 2022-11-18 02:00:00     6576.0     6591.0   \n",
       "4      5f718c439c7a78.65267835 2022-11-18 02:30:00     6590.0     6605.0   \n",
       "...                        ...                 ...        ...        ...   \n",
       "38361  62a9920f75c931.62399458 2023-11-01 10:00:00     6021.0     6006.0   \n",
       "38362  62a9920f75c931.62399458 2023-11-01 10:30:00     6009.0     5995.0   \n",
       "38363  62a9920f75c931.62399458 2023-11-01 11:00:00     6024.0     6012.0   \n",
       "38364  62a9920f75c931.62399458 2023-11-01 11:30:00     6029.0     6016.0   \n",
       "38365  62a9920f75c931.62399458 2023-11-01 12:00:00     6019.0     6007.0   \n",
       "\n",
       "       B_Voltage  R_Current  Y_Current  B_Current    Kwh                time  \n",
       "0         6473.0      27.74      27.42      25.57  261.3 2022-11-18 00:30:00  \n",
       "1         6494.0      27.29      26.84      24.40  254.3 2022-11-18 01:00:00  \n",
       "2         6511.0      27.06      27.00      24.37  254.8 2022-11-18 01:30:00  \n",
       "3         6550.0      25.49      25.53      23.30  242.6 2022-11-18 02:00:00  \n",
       "4         6564.0      25.21      24.74      23.09  238.9 2022-11-18 02:30:00  \n",
       "...          ...        ...        ...        ...    ...                 ...  \n",
       "38361     5968.0      18.01      14.66      18.98  153.8 2023-11-01 10:00:00  \n",
       "38362     5960.0      17.24      15.09      17.22  147.7 2023-11-01 10:30:00  \n",
       "38363     5976.0      17.84      14.13      17.95  149.0 2023-11-01 11:00:00  \n",
       "38364     5978.0      15.22      12.04      15.57  127.7 2023-11-01 11:30:00  \n",
       "38365     5969.0      14.36      12.28      14.71  123.6 2023-11-01 12:00:00  \n",
       "\n",
       "[38366 rows x 10 columns]"
      ]
     },
     "execution_count": 4,
     "metadata": {},
     "output_type": "execute_result"
    }
   ],
   "source": [
    "dframe"
   ]
  },
  {
   "cell_type": "code",
   "execution_count": 5,
   "metadata": {},
   "outputs": [
    {
     "data": {
      "text/plain": [
       "array(['5f718c439c7a78.65267835', '62a9920f75c931.62399458'], dtype=object)"
      ]
     },
     "execution_count": 5,
     "metadata": {},
     "output_type": "execute_result"
    }
   ],
   "source": [
    "id=dframe['sensor'].unique()\n",
    "id"
   ]
  },
  {
   "cell_type": "code",
   "execution_count": 6,
   "metadata": {},
   "outputs": [],
   "source": [
    "lst=[]\n",
    "for location in id:\n",
    "    df=dframe[dframe['sensor'] == location ]\n",
    "    df['Clock']=pd.to_datetime(df['Clock'])\n",
    "    df.set_index(['Clock'],inplace=True,drop= True)\n",
    "    df = df[df.index >= '2022-11-18 00:00:00']\n",
    "    filtered_df = df[((df['R_Voltage'] == 0) | (df['Y_Voltage'] == 0) | (df['B_Voltage'] == 0)) & \n",
    "                     ((df['R_Current'] == 0) | (df['Y_Current'] == 0) | (df['B_Current'] == 0))]\n",
    "    filtered_df['Kwh'] = 0\n",
    "    df.loc[filtered_df.index, :] = filtered_df\n",
    "    df=df[['Kwh']].resample(rule='1H').sum()\n",
    "    df['id']=location\n",
    "    df['Kwh_r']=df['Kwh'].rolling(window=24).mean()\n",
    "    df.dropna(inplace=True)\n",
    "    # df=df.reset_index()\n",
    "    lst.append(df)\n",
    "    "
   ]
  },
  {
   "cell_type": "code",
   "execution_count": 7,
   "metadata": {},
   "outputs": [
    {
     "data": {
      "text/plain": [
       "count    7982.000000\n",
       "mean      416.399662\n",
       "std       183.397593\n",
       "min         0.000000\n",
       "25%       274.200000\n",
       "50%       400.300000\n",
       "75%       528.600000\n",
       "max      1194.000000\n",
       "Name: Kwh, dtype: float64"
      ]
     },
     "execution_count": 7,
     "metadata": {},
     "output_type": "execute_result"
    }
   ],
   "source": [
    "df['Kwh'].describe()"
   ]
  },
  {
   "cell_type": "code",
   "execution_count": 8,
   "metadata": {},
   "outputs": [
    {
     "data": {
      "text/plain": [
       "count    7982.000000\n",
       "mean      416.426777\n",
       "std       147.196991\n",
       "min       192.529167\n",
       "25%       263.632292\n",
       "50%       399.866667\n",
       "75%       532.953125\n",
       "max       853.075000\n",
       "Name: Kwh_r, dtype: float64"
      ]
     },
     "execution_count": 8,
     "metadata": {},
     "output_type": "execute_result"
    }
   ],
   "source": [
    "df['Kwh_r'].describe()"
   ]
  },
  {
   "cell_type": "code",
   "execution_count": 9,
   "metadata": {},
   "outputs": [
    {
     "name": "stdout",
     "output_type": "stream",
     "text": [
      "ADF Statistic: -3.4414254850596557\n",
      "p-value: 0.009625179880853473\n",
      "Critical Values: {'1%': -3.431172715688274, '5%': -2.861903581077222, '10%': -2.5669635295294797}\n"
     ]
    }
   ],
   "source": [
    "result=adfuller(df['Kwh'],autolag='AIC')\n",
    "print('ADF Statistic:', result[0])\n",
    "print('p-value:', result[1])\n",
    "print('Critical Values:', result[4])"
   ]
  },
  {
   "cell_type": "code",
   "execution_count": 10,
   "metadata": {},
   "outputs": [
    {
     "name": "stdout",
     "output_type": "stream",
     "text": [
      "ADF Statistic: -2.8307689417477135\n",
      "p-value: 0.0540112789029553\n",
      "Critical Values: {'1%': -3.4311726121946253, '5%': -2.8619035353468147, '10%': -2.5669635051866786}\n"
     ]
    }
   ],
   "source": [
    "result=adfuller(df['Kwh_r'],autolag='AIC')\n",
    "print('ADF Statistic:', result[0])\n",
    "print('p-value:', result[1])\n",
    "print('Critical Values:', result[4])"
   ]
  }
 ],
 "metadata": {
  "kernelspec": {
   "display_name": "base",
   "language": "python",
   "name": "python3"
  },
  "language_info": {
   "codemirror_mode": {
    "name": "ipython",
    "version": 3
   },
   "file_extension": ".py",
   "mimetype": "text/x-python",
   "name": "python",
   "nbconvert_exporter": "python",
   "pygments_lexer": "ipython3",
   "version": "3.11.4"
  }
 },
 "nbformat": 4,
 "nbformat_minor": 2
}
