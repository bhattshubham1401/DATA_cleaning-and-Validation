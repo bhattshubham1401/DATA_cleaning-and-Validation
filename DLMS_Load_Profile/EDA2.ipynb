{
 "cells": [
  {
   "cell_type": "code",
   "execution_count": 5,
   "metadata": {},
   "outputs": [],
   "source": [
    "import pandas as pd\n",
    "import numpy as np\n",
    "import matplotlib.pyplot as plt \n",
    "%matplotlib inline\n",
    "plt.rcParams['figure.figsize']=(20,5)\n",
    "import plotly.express as px\n",
    "\n",
    "import warnings\n",
    "warnings.filterwarnings(\"ignore\")\n",
    "\n",
    "from statsmodels.tsa.seasonal import seasonal_decompose\n",
    "from dateutil.parser import parse\n",
    "import pandas as pd\n",
    "from statsmodels.tsa.stattools import adfuller\n",
    "import pyarrow.parquet as pq"
   ]
  },
  {
   "cell_type": "code",
   "execution_count": null,
   "metadata": {},
   "outputs": [],
   "source": [
    "def sliderPlot(df1,i):\n",
    "    fig = px.line(df1, y=df1[i] )\n",
    "    fig.update_xaxes(\n",
    "        rangeslider_visible=True,\n",
    "        rangeselector=dict(\n",
    "            buttons=list([\n",
    "                dict(count=1, label=\"1y\", step=\"year\", stepmode=\"backward\"),\n",
    "                dict(count=2, label=\"2y\", step=\"year\", stepmode=\"backward\"),\n",
    "                dict(count=3, label=\"3y\", step=\"year\", stepmode=\"backward\"),\n",
    "                dict(step=\"all\")\n",
    "            ])\n",
    "        ))\n",
    "    fig.show()"
   ]
  },
  {
   "cell_type": "code",
   "execution_count": 9,
   "metadata": {},
   "outputs": [],
   "source": [
    "table = pq.read_table(r'C:/Users/Harsh/Downloads/DLMS Data/data.parquet')\n",
    "\n",
    "# Convert it to a Pandas DataFrame (optional)\n",
    "dframe = table.to_pandas()"
   ]
  },
  {
   "cell_type": "code",
   "execution_count": 10,
   "metadata": {},
   "outputs": [
    {
     "data": {
      "text/html": [
       "<div>\n",
       "<style scoped>\n",
       "    .dataframe tbody tr th:only-of-type {\n",
       "        vertical-align: middle;\n",
       "    }\n",
       "\n",
       "    .dataframe tbody tr th {\n",
       "        vertical-align: top;\n",
       "    }\n",
       "\n",
       "    .dataframe thead th {\n",
       "        text-align: right;\n",
       "    }\n",
       "</style>\n",
       "<table border=\"1\" class=\"dataframe\">\n",
       "  <thead>\n",
       "    <tr style=\"text-align: right;\">\n",
       "      <th></th>\n",
       "      <th>sensor</th>\n",
       "      <th>Clock</th>\n",
       "      <th>R_Voltage</th>\n",
       "      <th>Y_Voltage</th>\n",
       "      <th>B_Voltage</th>\n",
       "      <th>R_Current</th>\n",
       "      <th>Y_Current</th>\n",
       "      <th>B_Current</th>\n",
       "      <th>Kwh</th>\n",
       "    </tr>\n",
       "  </thead>\n",
       "  <tbody>\n",
       "    <tr>\n",
       "      <th>0</th>\n",
       "      <td>5f718c439c7a78.65267835</td>\n",
       "      <td>2022-11-18 00:30:00</td>\n",
       "      <td>6499.0</td>\n",
       "      <td>6514.0</td>\n",
       "      <td>6473.0</td>\n",
       "      <td>27.74</td>\n",
       "      <td>27.42</td>\n",
       "      <td>25.57</td>\n",
       "      <td>261300.0</td>\n",
       "    </tr>\n",
       "  </tbody>\n",
       "</table>\n",
       "</div>"
      ],
      "text/plain": [
       "                    sensor               Clock  R_Voltage  Y_Voltage  \\\n",
       "0  5f718c439c7a78.65267835 2022-11-18 00:30:00     6499.0     6514.0   \n",
       "\n",
       "   B_Voltage  R_Current  Y_Current  B_Current       Kwh  \n",
       "0     6473.0      27.74      27.42      25.57  261300.0  "
      ]
     },
     "execution_count": 10,
     "metadata": {},
     "output_type": "execute_result"
    }
   ],
   "source": [
    "dframe.head(1)"
   ]
  },
  {
   "cell_type": "code",
   "execution_count": 11,
   "metadata": {},
   "outputs": [
    {
     "data": {
      "text/plain": [
       "array(['5f718c439c7a78.65267835', '62a9920f75c931.62399458'], dtype=object)"
      ]
     },
     "execution_count": 11,
     "metadata": {},
     "output_type": "execute_result"
    }
   ],
   "source": [
    "id=dframe['sensor'].unique()\n",
    "id"
   ]
  },
  {
   "cell_type": "code",
   "execution_count": 17,
   "metadata": {},
   "outputs": [],
   "source": [
    "lst=[]\n",
    "for location in id:\n",
    "    df=dframe[dframe['sensor'] == location ]\n",
    "    # df['Clock']=pd.to_datetime(df['Clock'])\n",
    "    df.set_index(['Clock'],inplace=True,drop= True)\n",
    "    df = df[df.index >= '2022-11-18 00:00:00']\n",
    "    filtered_df = df[((df['R_Voltage'] == 0) | (df['Y_Voltage'] == 0) | (df['B_Voltage'] == 0)) & \n",
    "                     ((df['R_Current'] == 0) | (df['Y_Current'] == 0) | (df['B_Current'] == 0))]\n",
    "    filtered_df['Kwh'] = 0\n",
    "    df.loc[filtered_df.index, :] = filtered_df\n",
    "    df=df[['Kwh']].resample(rule='30Min').max()\n",
    "\n",
    "    lst.append(df)"
   ]
  },
  {
   "cell_type": "code",
   "execution_count": 18,
   "metadata": {},
   "outputs": [
    {
     "data": {
      "text/html": [
       "<div>\n",
       "<style scoped>\n",
       "    .dataframe tbody tr th:only-of-type {\n",
       "        vertical-align: middle;\n",
       "    }\n",
       "\n",
       "    .dataframe tbody tr th {\n",
       "        vertical-align: top;\n",
       "    }\n",
       "\n",
       "    .dataframe thead th {\n",
       "        text-align: right;\n",
       "    }\n",
       "</style>\n",
       "<table border=\"1\" class=\"dataframe\">\n",
       "  <thead>\n",
       "    <tr style=\"text-align: right;\">\n",
       "      <th></th>\n",
       "      <th>Kwh</th>\n",
       "    </tr>\n",
       "    <tr>\n",
       "      <th>Clock</th>\n",
       "      <th></th>\n",
       "    </tr>\n",
       "  </thead>\n",
       "  <tbody>\n",
       "    <tr>\n",
       "      <th>2022-11-18 00:30:00</th>\n",
       "      <td>261300.0</td>\n",
       "    </tr>\n",
       "    <tr>\n",
       "      <th>2022-11-18 01:00:00</th>\n",
       "      <td>254300.0</td>\n",
       "    </tr>\n",
       "    <tr>\n",
       "      <th>2022-11-18 01:30:00</th>\n",
       "      <td>254800.0</td>\n",
       "    </tr>\n",
       "    <tr>\n",
       "      <th>2022-11-18 02:00:00</th>\n",
       "      <td>242600.0</td>\n",
       "    </tr>\n",
       "    <tr>\n",
       "      <th>2022-11-18 02:30:00</th>\n",
       "      <td>238900.0</td>\n",
       "    </tr>\n",
       "    <tr>\n",
       "      <th>...</th>\n",
       "      <td>...</td>\n",
       "    </tr>\n",
       "    <tr>\n",
       "      <th>2023-11-01 00:00:00</th>\n",
       "      <td>455100.0</td>\n",
       "    </tr>\n",
       "    <tr>\n",
       "      <th>2023-11-01 00:30:00</th>\n",
       "      <td>431900.0</td>\n",
       "    </tr>\n",
       "    <tr>\n",
       "      <th>2023-11-01 01:00:00</th>\n",
       "      <td>420300.0</td>\n",
       "    </tr>\n",
       "    <tr>\n",
       "      <th>2023-11-01 01:30:00</th>\n",
       "      <td>394800.0</td>\n",
       "    </tr>\n",
       "    <tr>\n",
       "      <th>2023-11-01 02:00:00</th>\n",
       "      <td>386100.0</td>\n",
       "    </tr>\n",
       "  </tbody>\n",
       "</table>\n",
       "<p>16708 rows × 1 columns</p>\n",
       "</div>"
      ],
      "text/plain": [
       "                          Kwh\n",
       "Clock                        \n",
       "2022-11-18 00:30:00  261300.0\n",
       "2022-11-18 01:00:00  254300.0\n",
       "2022-11-18 01:30:00  254800.0\n",
       "2022-11-18 02:00:00  242600.0\n",
       "2022-11-18 02:30:00  238900.0\n",
       "...                       ...\n",
       "2023-11-01 00:00:00  455100.0\n",
       "2023-11-01 00:30:00  431900.0\n",
       "2023-11-01 01:00:00  420300.0\n",
       "2023-11-01 01:30:00  394800.0\n",
       "2023-11-01 02:00:00  386100.0\n",
       "\n",
       "[16708 rows x 1 columns]"
      ]
     },
     "execution_count": 18,
     "metadata": {},
     "output_type": "execute_result"
    }
   ],
   "source": [
    "lst[0]"
   ]
  },
  {
   "cell_type": "code",
   "execution_count": 19,
   "metadata": {},
   "outputs": [
    {
     "data": {
      "text/html": [
       "<div>\n",
       "<style scoped>\n",
       "    .dataframe tbody tr th:only-of-type {\n",
       "        vertical-align: middle;\n",
       "    }\n",
       "\n",
       "    .dataframe tbody tr th {\n",
       "        vertical-align: top;\n",
       "    }\n",
       "\n",
       "    .dataframe thead th {\n",
       "        text-align: right;\n",
       "    }\n",
       "</style>\n",
       "<table border=\"1\" class=\"dataframe\">\n",
       "  <thead>\n",
       "    <tr style=\"text-align: right;\">\n",
       "      <th></th>\n",
       "      <th>Kwh</th>\n",
       "    </tr>\n",
       "    <tr>\n",
       "      <th>Clock</th>\n",
       "      <th></th>\n",
       "    </tr>\n",
       "  </thead>\n",
       "  <tbody>\n",
       "    <tr>\n",
       "      <th>2022-12-03 00:30:00</th>\n",
       "      <td>86100.0</td>\n",
       "    </tr>\n",
       "    <tr>\n",
       "      <th>2022-12-03 01:00:00</th>\n",
       "      <td>79500.0</td>\n",
       "    </tr>\n",
       "    <tr>\n",
       "      <th>2022-12-03 01:30:00</th>\n",
       "      <td>71700.0</td>\n",
       "    </tr>\n",
       "    <tr>\n",
       "      <th>2022-12-03 02:00:00</th>\n",
       "      <td>66700.0</td>\n",
       "    </tr>\n",
       "    <tr>\n",
       "      <th>2022-12-03 02:30:00</th>\n",
       "      <td>67300.0</td>\n",
       "    </tr>\n",
       "    <tr>\n",
       "      <th>...</th>\n",
       "      <td>...</td>\n",
       "    </tr>\n",
       "    <tr>\n",
       "      <th>2023-11-01 10:00:00</th>\n",
       "      <td>153800.0</td>\n",
       "    </tr>\n",
       "    <tr>\n",
       "      <th>2023-11-01 10:30:00</th>\n",
       "      <td>147700.0</td>\n",
       "    </tr>\n",
       "    <tr>\n",
       "      <th>2023-11-01 11:00:00</th>\n",
       "      <td>149000.0</td>\n",
       "    </tr>\n",
       "    <tr>\n",
       "      <th>2023-11-01 11:30:00</th>\n",
       "      <td>127700.0</td>\n",
       "    </tr>\n",
       "    <tr>\n",
       "      <th>2023-11-01 12:00:00</th>\n",
       "      <td>123600.0</td>\n",
       "    </tr>\n",
       "  </tbody>\n",
       "</table>\n",
       "<p>16008 rows × 1 columns</p>\n",
       "</div>"
      ],
      "text/plain": [
       "                          Kwh\n",
       "Clock                        \n",
       "2022-12-03 00:30:00   86100.0\n",
       "2022-12-03 01:00:00   79500.0\n",
       "2022-12-03 01:30:00   71700.0\n",
       "2022-12-03 02:00:00   66700.0\n",
       "2022-12-03 02:30:00   67300.0\n",
       "...                       ...\n",
       "2023-11-01 10:00:00  153800.0\n",
       "2023-11-01 10:30:00  147700.0\n",
       "2023-11-01 11:00:00  149000.0\n",
       "2023-11-01 11:30:00  127700.0\n",
       "2023-11-01 12:00:00  123600.0\n",
       "\n",
       "[16008 rows x 1 columns]"
      ]
     },
     "execution_count": 19,
     "metadata": {},
     "output_type": "execute_result"
    }
   ],
   "source": [
    "lst[1]"
   ]
  },
  {
   "cell_type": "code",
   "execution_count": null,
   "metadata": {},
   "outputs": [],
   "source": []
  }
 ],
 "metadata": {
  "kernelspec": {
   "display_name": "base",
   "language": "python",
   "name": "python3"
  },
  "language_info": {
   "codemirror_mode": {
    "name": "ipython",
    "version": 3
   },
   "file_extension": ".py",
   "mimetype": "text/x-python",
   "name": "python",
   "nbconvert_exporter": "python",
   "pygments_lexer": "ipython3",
   "version": "3.11.4"
  }
 },
 "nbformat": 4,
 "nbformat_minor": 2
}
