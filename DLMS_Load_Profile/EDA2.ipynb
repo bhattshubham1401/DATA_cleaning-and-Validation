{
 "cells": [
  {
   "cell_type": "code",
   "execution_count": 1,
   "metadata": {},
   "outputs": [],
   "source": [
    "import pandas as pd\n",
    "import numpy as np\n",
    "import matplotlib.pyplot as plt \n",
    "%matplotlib inline\n",
    "plt.rcParams['figure.figsize']=(20,5)\n",
    "import plotly.express as px\n",
    "\n",
    "import warnings\n",
    "warnings.filterwarnings(\"ignore\")\n",
    "\n",
    "from statsmodels.tsa.seasonal import seasonal_decompose\n",
    "from dateutil.parser import parse\n",
    "import pandas as pd\n",
    "from statsmodels.tsa.stattools import adfuller\n",
    "import pyarrow.parquet as pq"
   ]
  },
  {
   "cell_type": "code",
   "execution_count": 2,
   "metadata": {},
   "outputs": [],
   "source": [
    "def sliderPlot(df1,i):\n",
    "    fig = px.line(df1, y=df1[i] )\n",
    "    fig.update_xaxes(\n",
    "        rangeslider_visible=True,\n",
    "        rangeselector=dict(\n",
    "            buttons=list([\n",
    "                dict(count=1, label=\"1y\", step=\"year\", stepmode=\"backward\"),\n",
    "                dict(count=2, label=\"2y\", step=\"year\", stepmode=\"backward\"),\n",
    "                dict(count=3, label=\"3y\", step=\"year\", stepmode=\"backward\"),\n",
    "                dict(step=\"all\")\n",
    "            ])\n",
    "        ))\n",
    "    fig.show()"
   ]
  },
  {
   "cell_type": "code",
   "execution_count": 3,
   "metadata": {},
   "outputs": [],
   "source": [
    "table = pq.read_table(r'C:/Users/Harsh/Downloads/DLMS Data/data.parquet')\n",
    "\n",
    "# Convert it to a Pandas DataFrame (optional)\n",
    "dframe = table.to_pandas()"
   ]
  },
  {
   "cell_type": "code",
   "execution_count": 4,
   "metadata": {},
   "outputs": [],
   "source": [
    "dframe.head(1)\n",
    "dframe['Kwh']=dframe['Kwh']/1000"
   ]
  },
  {
   "cell_type": "code",
   "execution_count": 5,
   "metadata": {},
   "outputs": [
    {
     "data": {
      "text/plain": [
       "array(['5f718c439c7a78.65267835', '62a9920f75c931.62399458'], dtype=object)"
      ]
     },
     "execution_count": 5,
     "metadata": {},
     "output_type": "execute_result"
    }
   ],
   "source": [
    "id=dframe['sensor'].unique()\n",
    "id"
   ]
  },
  {
   "cell_type": "code",
   "execution_count": 6,
   "metadata": {},
   "outputs": [],
   "source": [
    "lst=[]\n",
    "for location in id:\n",
    "    df=dframe[dframe['sensor'] == location ]\n",
    "    # df['Clock']=pd.to_datetime(df['Clock'])\n",
    "    df.set_index(['Clock'],inplace=True,drop= True)\n",
    "    df = df[df.index >= '2022-11-18 00:00:00']\n",
    "    filtered_df = df[((df['R_Voltage'] == 0) | (df['Y_Voltage'] == 0) | (df['B_Voltage'] == 0)) & \n",
    "                     ((df['R_Current'] == 0) | (df['Y_Current'] == 0) | (df['B_Current'] == 0))]\n",
    "    filtered_df['Kwh'] = 0\n",
    "    df.loc[filtered_df.index, :] = filtered_df\n",
    "    df=df[['Kwh']].resample(rule='1H').sum()\n",
    "    # df['id']=location\n",
    "    df['Kwh_r']=df['Kwh'].rolling(window=24).mean()\n",
    "    df.dropna(inplace=True)\n",
    "\n",
    "    lst.append(df)"
   ]
  },
  {
   "cell_type": "code",
   "execution_count": 7,
   "metadata": {},
   "outputs": [
    {
     "data": {
      "text/html": [
       "<div>\n",
       "<style scoped>\n",
       "    .dataframe tbody tr th:only-of-type {\n",
       "        vertical-align: middle;\n",
       "    }\n",
       "\n",
       "    .dataframe tbody tr th {\n",
       "        vertical-align: top;\n",
       "    }\n",
       "\n",
       "    .dataframe thead th {\n",
       "        text-align: right;\n",
       "    }\n",
       "</style>\n",
       "<table border=\"1\" class=\"dataframe\">\n",
       "  <thead>\n",
       "    <tr style=\"text-align: right;\">\n",
       "      <th></th>\n",
       "      <th>Kwh</th>\n",
       "      <th>Kwh_r</th>\n",
       "    </tr>\n",
       "    <tr>\n",
       "      <th>Clock</th>\n",
       "      <th></th>\n",
       "      <th></th>\n",
       "    </tr>\n",
       "  </thead>\n",
       "  <tbody>\n",
       "    <tr>\n",
       "      <th>2022-11-18 23:00:00</th>\n",
       "      <td>665.2</td>\n",
       "      <td>717.695833</td>\n",
       "    </tr>\n",
       "    <tr>\n",
       "      <th>2022-11-19 00:00:00</th>\n",
       "      <td>592.3</td>\n",
       "      <td>731.487500</td>\n",
       "    </tr>\n",
       "    <tr>\n",
       "      <th>2022-11-19 01:00:00</th>\n",
       "      <td>526.3</td>\n",
       "      <td>732.204167</td>\n",
       "    </tr>\n",
       "    <tr>\n",
       "      <th>2022-11-19 02:00:00</th>\n",
       "      <td>505.7</td>\n",
       "      <td>733.212500</td>\n",
       "    </tr>\n",
       "    <tr>\n",
       "      <th>2022-11-19 03:00:00</th>\n",
       "      <td>487.4</td>\n",
       "      <td>733.845833</td>\n",
       "    </tr>\n",
       "    <tr>\n",
       "      <th>...</th>\n",
       "      <td>...</td>\n",
       "      <td>...</td>\n",
       "    </tr>\n",
       "    <tr>\n",
       "      <th>2023-10-31 22:00:00</th>\n",
       "      <td>1066.9</td>\n",
       "      <td>985.366667</td>\n",
       "    </tr>\n",
       "    <tr>\n",
       "      <th>2023-10-31 23:00:00</th>\n",
       "      <td>975.5</td>\n",
       "      <td>983.391667</td>\n",
       "    </tr>\n",
       "    <tr>\n",
       "      <th>2023-11-01 00:00:00</th>\n",
       "      <td>887.0</td>\n",
       "      <td>981.958333</td>\n",
       "    </tr>\n",
       "    <tr>\n",
       "      <th>2023-11-01 01:00:00</th>\n",
       "      <td>815.1</td>\n",
       "      <td>980.387500</td>\n",
       "    </tr>\n",
       "    <tr>\n",
       "      <th>2023-11-01 02:00:00</th>\n",
       "      <td>386.1</td>\n",
       "      <td>962.662500</td>\n",
       "    </tr>\n",
       "  </tbody>\n",
       "</table>\n",
       "<p>8332 rows × 2 columns</p>\n",
       "</div>"
      ],
      "text/plain": [
       "                        Kwh       Kwh_r\n",
       "Clock                                  \n",
       "2022-11-18 23:00:00   665.2  717.695833\n",
       "2022-11-19 00:00:00   592.3  731.487500\n",
       "2022-11-19 01:00:00   526.3  732.204167\n",
       "2022-11-19 02:00:00   505.7  733.212500\n",
       "2022-11-19 03:00:00   487.4  733.845833\n",
       "...                     ...         ...\n",
       "2023-10-31 22:00:00  1066.9  985.366667\n",
       "2023-10-31 23:00:00   975.5  983.391667\n",
       "2023-11-01 00:00:00   887.0  981.958333\n",
       "2023-11-01 01:00:00   815.1  980.387500\n",
       "2023-11-01 02:00:00   386.1  962.662500\n",
       "\n",
       "[8332 rows x 2 columns]"
      ]
     },
     "execution_count": 7,
     "metadata": {},
     "output_type": "execute_result"
    }
   ],
   "source": [
    "df=lst[0]\n",
    "df"
   ]
  },
  {
   "cell_type": "code",
   "execution_count": 8,
   "metadata": {},
   "outputs": [
    {
     "data": {
      "text/plain": [
       "count    8332.000000\n",
       "mean     1231.005713\n",
       "std       502.267511\n",
       "min         0.000000\n",
       "25%       854.175000\n",
       "50%      1180.800000\n",
       "75%      1535.750000\n",
       "max      3397.200000\n",
       "Name: Kwh, dtype: float64"
      ]
     },
     "execution_count": 8,
     "metadata": {},
     "output_type": "execute_result"
    }
   ],
   "source": [
    "df['Kwh'].describe()"
   ]
  },
  {
   "cell_type": "code",
   "execution_count": null,
   "metadata": {},
   "outputs": [],
   "source": []
  },
  {
   "cell_type": "code",
   "execution_count": 9,
   "metadata": {},
   "outputs": [
    {
     "name": "stdout",
     "output_type": "stream",
     "text": [
      "ADF Statistic: -3.0948425262201607\n",
      "p-value: 0.026937226462572607\n",
      "Critical Values: {'1%': -3.4311382062666165, '5%': -2.8618883324211724, '10%': -2.56695541251651}\n"
     ]
    }
   ],
   "source": [
    "result=adfuller(df['Kwh'],autolag='AIC')\n",
    "print('ADF Statistic:', result[0])\n",
    "print('p-value:', result[1])\n",
    "print('Critical Values:', result[4])"
   ]
  },
  {
   "cell_type": "code",
   "execution_count": null,
   "metadata": {},
   "outputs": [],
   "source": []
  },
  {
   "cell_type": "code",
   "execution_count": null,
   "metadata": {},
   "outputs": [],
   "source": []
  }
 ],
 "metadata": {
  "kernelspec": {
   "display_name": "base",
   "language": "python",
   "name": "python3"
  },
  "language_info": {
   "codemirror_mode": {
    "name": "ipython",
    "version": 3
   },
   "file_extension": ".py",
   "mimetype": "text/x-python",
   "name": "python",
   "nbconvert_exporter": "python",
   "pygments_lexer": "ipython3",
   "version": "3.11.4"
  }
 },
 "nbformat": 4,
 "nbformat_minor": 2
}
