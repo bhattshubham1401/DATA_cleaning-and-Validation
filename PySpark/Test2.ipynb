{
 "cells": [
  {
   "cell_type": "code",
   "execution_count": 1,
   "metadata": {},
   "outputs": [],
   "source": [
    "import pyspark\n",
    "from pyspark.sql import SparkSession\n"
   ]
  },
  {
   "cell_type": "code",
   "execution_count": 3,
   "metadata": {},
   "outputs": [],
   "source": [
    "spark = SparkSession.builder.appName(\"devil\").getOrCreate()"
   ]
  },
  {
   "cell_type": "code",
   "execution_count": 19,
   "metadata": {},
   "outputs": [],
   "source": [
    "df=spark.read.options().parquet(r\"D:\\Data_Files\\data_ingestion\\final.parquet\")"
   ]
  },
  {
   "cell_type": "code",
   "execution_count": 24,
   "metadata": {},
   "outputs": [
    {
     "name": "stdout",
     "output_type": "stream",
     "text": [
      "+------------+-------------------+----------------+-----------+\n",
      "| location_id|      creation_time|grid_reading_kwh|meter_sr_no|\n",
      "+------------+-------------------+----------------+-----------+\n",
      "|500000030009|2021-04-30 23:59:59|            45.0| DAL0000991|\n",
      "|500000040009|2021-05-01 00:00:02|           144.0| DAL0000537|\n",
      "+------------+-------------------+----------------+-----------+\n",
      "only showing top 2 rows\n",
      "\n"
     ]
    }
   ],
   "source": [
    "df.show(2)"
   ]
  },
  {
   "cell_type": "code",
   "execution_count": 23,
   "metadata": {},
   "outputs": [
    {
     "data": {
      "text/plain": [
       "[Row(location_id='500000030009', creation_time=datetime.datetime(2021, 4, 30, 23, 59, 59), grid_reading_kwh=45.0, meter_sr_no='DAL0000991'),\n",
       " Row(location_id='500000040009', creation_time=datetime.datetime(2021, 5, 1, 0, 0, 2), grid_reading_kwh=144.0, meter_sr_no='DAL0000537')]"
      ]
     },
     "execution_count": 23,
     "metadata": {},
     "output_type": "execute_result"
    }
   ],
   "source": [
    "df.head(2)"
   ]
  },
  {
   "cell_type": "code",
   "execution_count": 25,
   "metadata": {},
   "outputs": [
    {
     "data": {
      "text/plain": [
       "[Row(location_id='500000040417', creation_time=datetime.datetime(2023, 10, 11, 14, 10, 14), grid_reading_kwh=3117.0, meter_sr_no='9513473'),\n",
       " Row(location_id='500000190002', creation_time=datetime.datetime(2023, 10, 11, 14, 10, 15), grid_reading_kwh=8048.0, meter_sr_no='9513303')]"
      ]
     },
     "execution_count": 25,
     "metadata": {},
     "output_type": "execute_result"
    }
   ],
   "source": [
    "df.tail(2)"
   ]
  },
  {
   "cell_type": "code",
   "execution_count": 26,
   "metadata": {},
   "outputs": [
    {
     "data": {
      "text/plain": [
       "[('location_id', 'string'),\n",
       " ('creation_time', 'timestamp_ntz'),\n",
       " ('grid_reading_kwh', 'double'),\n",
       " ('meter_sr_no', 'string')]"
      ]
     },
     "execution_count": 26,
     "metadata": {},
     "output_type": "execute_result"
    }
   ],
   "source": [
    "df.dtypes\n"
   ]
  },
  {
   "cell_type": "code",
   "execution_count": 27,
   "metadata": {},
   "outputs": [
    {
     "name": "stdout",
     "output_type": "stream",
     "text": [
      "root\n",
      " |-- location_id: string (nullable = true)\n",
      " |-- creation_time: timestamp_ntz (nullable = true)\n",
      " |-- grid_reading_kwh: double (nullable = true)\n",
      " |-- meter_sr_no: string (nullable = true)\n",
      "\n"
     ]
    }
   ],
   "source": [
    "df.printSchema()"
   ]
  },
  {
   "cell_type": "code",
   "execution_count": 28,
   "metadata": {},
   "outputs": [
    {
     "data": {
      "text/plain": [
       "['location_id', 'creation_time', 'grid_reading_kwh', 'meter_sr_no']"
      ]
     },
     "execution_count": 28,
     "metadata": {},
     "output_type": "execute_result"
    }
   ],
   "source": [
    "df.columns"
   ]
  },
  {
   "cell_type": "code",
   "execution_count": 30,
   "metadata": {},
   "outputs": [
    {
     "name": "stdout",
     "output_type": "stream",
     "text": [
      "+------------+\n",
      "| location_id|\n",
      "+------------+\n",
      "|500000030009|\n",
      "|500000040009|\n",
      "|500000010606|\n",
      "|500000020508|\n",
      "|500000020606|\n",
      "+------------+\n",
      "only showing top 5 rows\n",
      "\n"
     ]
    }
   ],
   "source": [
    "df.select('location_id').show(5)"
   ]
  },
  {
   "cell_type": "code",
   "execution_count": 32,
   "metadata": {},
   "outputs": [
    {
     "name": "stdout",
     "output_type": "stream",
     "text": [
      "+------------+----------------+\n",
      "| location_id|grid_reading_kwh|\n",
      "+------------+----------------+\n",
      "|500000030009|            45.0|\n",
      "|500000040009|           144.0|\n",
      "|500000010606|             4.0|\n",
      "|500000020508|           140.0|\n",
      "|500000020606|            15.0|\n",
      "+------------+----------------+\n",
      "only showing top 5 rows\n",
      "\n"
     ]
    }
   ],
   "source": [
    "df.select(['location_id','grid_reading_kwh']).show(5)"
   ]
  },
  {
   "cell_type": "code",
   "execution_count": 33,
   "metadata": {},
   "outputs": [
    {
     "data": {
      "text/plain": [
       "DataFrame[summary: string, location_id: string, grid_reading_kwh: string, meter_sr_no: string]"
      ]
     },
     "execution_count": 33,
     "metadata": {},
     "output_type": "execute_result"
    }
   ],
   "source": [
    "df.describe()"
   ]
  },
  {
   "cell_type": "code",
   "execution_count": 34,
   "metadata": {},
   "outputs": [
    {
     "name": "stdout",
     "output_type": "stream",
     "text": [
      "+-------+--------------------+-----------------+------------------+\n",
      "|summary|         location_id| grid_reading_kwh|       meter_sr_no|\n",
      "+-------+--------------------+-----------------+------------------+\n",
      "|  count|           117158784|        117158784|         117158784|\n",
      "|   mean|5.000000270163167E11|4746.180966153088| 8917726.902084913|\n",
      "| stddev|    18278.6219878708|4576.588929671927|1727525.5765619588|\n",
      "|    min|        500000000035|              0.0|           3979172|\n",
      "|    max|        500000400810|          40564.0|              NULL|\n",
      "+-------+--------------------+-----------------+------------------+\n",
      "\n"
     ]
    }
   ],
   "source": [
    "df.describe().show()"
   ]
  },
  {
   "cell_type": "code",
   "execution_count": null,
   "metadata": {},
   "outputs": [],
   "source": [
    "df.withcolumn('location_id')"
   ]
  },
  {
   "cell_type": "code",
   "execution_count": null,
   "metadata": {},
   "outputs": [],
   "source": []
  },
  {
   "cell_type": "code",
   "execution_count": 43,
   "metadata": {},
   "outputs": [
    {
     "name": "stdout",
     "output_type": "stream",
     "text": [
      "+-------+-----------------+\n",
      "|summary| grid_reading_kwh|\n",
      "+-------+-----------------+\n",
      "|  count|        117158784|\n",
      "|   mean|4746.180966153088|\n",
      "| stddev|4576.588929671927|\n",
      "|    min|              0.0|\n",
      "|    max|          40564.0|\n",
      "+-------+-----------------+\n",
      "\n"
     ]
    }
   ],
   "source": [
    "df.select('grid_reading_kwh').describe().show()"
   ]
  },
  {
   "cell_type": "code",
   "execution_count": 58,
   "metadata": {},
   "outputs": [],
   "source": [
    "df2=df.groupBy('location_id').count()\n"
   ]
  },
  {
   "cell_type": "code",
   "execution_count": 59,
   "metadata": {},
   "outputs": [
    {
     "data": {
      "text/plain": [
       "941"
      ]
     },
     "execution_count": 59,
     "metadata": {},
     "output_type": "execute_result"
    }
   ],
   "source": [
    "df2.select('location_id').count()"
   ]
  },
  {
   "cell_type": "code",
   "execution_count": null,
   "metadata": {},
   "outputs": [],
   "source": []
  }
 ],
 "metadata": {
  "kernelspec": {
   "display_name": "base",
   "language": "python",
   "name": "python3"
  },
  "language_info": {
   "codemirror_mode": {
    "name": "ipython",
    "version": 3
   },
   "file_extension": ".py",
   "mimetype": "text/x-python",
   "name": "python",
   "nbconvert_exporter": "python",
   "pygments_lexer": "ipython3",
   "version": "3.8.18"
  }
 },
 "nbformat": 4,
 "nbformat_minor": 2
}
