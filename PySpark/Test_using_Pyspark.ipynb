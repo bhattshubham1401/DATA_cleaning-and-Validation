{
 "cells": [
  {
   "cell_type": "code",
   "execution_count": 1,
   "metadata": {},
   "outputs": [],
   "source": [
    "from pyspark.sql import SparkSession\n",
    "import pandas as pd\n",
    "import numpy as np"
   ]
  },
  {
   "cell_type": "code",
   "execution_count": 2,
   "metadata": {},
   "outputs": [],
   "source": [
    "spark=SparkSession.builder.appName('trial').getOrCreate()"
   ]
  },
  {
   "cell_type": "code",
   "execution_count": 3,
   "metadata": {},
   "outputs": [],
   "source": [
    "df=spark.read.options().parquet(r\"D:\\Data_Files\\Final\\data_ingestion\\final.parquet\")"
   ]
  },
  {
   "cell_type": "code",
   "execution_count": 4,
   "metadata": {},
   "outputs": [
    {
     "data": {
      "text/plain": [
       "[Row(location_id='500000030009', creation_time=datetime.datetime(2021, 4, 30, 23, 59, 59), grid_reading_kwh=45.0, meter_sr_no='DAL0000991'),\n",
       " Row(location_id='500000040009', creation_time=datetime.datetime(2021, 5, 1, 0, 0, 2), grid_reading_kwh=144.0, meter_sr_no='DAL0000537')]"
      ]
     },
     "execution_count": 4,
     "metadata": {},
     "output_type": "execute_result"
    }
   ],
   "source": [
    "df.head(2)"
   ]
  },
  {
   "cell_type": "code",
   "execution_count": 5,
   "metadata": {},
   "outputs": [
    {
     "name": "stdout",
     "output_type": "stream",
     "text": [
      "root\n",
      " |-- location_id: string (nullable = true)\n",
      " |-- creation_time: timestamp_ntz (nullable = true)\n",
      " |-- grid_reading_kwh: double (nullable = true)\n",
      " |-- meter_sr_no: string (nullable = true)\n",
      "\n"
     ]
    }
   ],
   "source": [
    "df.printSchema()"
   ]
  },
  {
   "cell_type": "code",
   "execution_count": 6,
   "metadata": {},
   "outputs": [
    {
     "data": {
      "text/plain": [
       "pyspark.sql.dataframe.DataFrame"
      ]
     },
     "execution_count": 6,
     "metadata": {},
     "output_type": "execute_result"
    }
   ],
   "source": [
    "type(df)"
   ]
  },
  {
   "cell_type": "code",
   "execution_count": 7,
   "metadata": {},
   "outputs": [
    {
     "data": {
      "text/plain": [
       "['location_id', 'creation_time', 'grid_reading_kwh', 'meter_sr_no']"
      ]
     },
     "execution_count": 7,
     "metadata": {},
     "output_type": "execute_result"
    }
   ],
   "source": [
    "df.columns"
   ]
  },
  {
   "cell_type": "code",
   "execution_count": 8,
   "metadata": {},
   "outputs": [
    {
     "data": {
      "text/plain": [
       "[Row(location_id='500000040403', creation_time=datetime.datetime(2023, 10, 11, 14, 10, 13), grid_reading_kwh=3833.0, meter_sr_no='9513580'),\n",
       " Row(location_id='500000010813', creation_time=datetime.datetime(2023, 10, 11, 14, 10, 14), grid_reading_kwh=1571.0, meter_sr_no='9513727'),\n",
       " Row(location_id='500000030811', creation_time=datetime.datetime(2023, 10, 11, 14, 10, 14), grid_reading_kwh=10046.0, meter_sr_no='DAL0000246'),\n",
       " Row(location_id='500000040417', creation_time=datetime.datetime(2023, 10, 11, 14, 10, 14), grid_reading_kwh=3117.0, meter_sr_no='9513473'),\n",
       " Row(location_id='500000190002', creation_time=datetime.datetime(2023, 10, 11, 14, 10, 15), grid_reading_kwh=8048.0, meter_sr_no='9513303')]"
      ]
     },
     "execution_count": 8,
     "metadata": {},
     "output_type": "execute_result"
    }
   ],
   "source": [
    "df.tail(5)"
   ]
  },
  {
   "cell_type": "code",
   "execution_count": 9,
   "metadata": {},
   "outputs": [
    {
     "name": "stdout",
     "output_type": "stream",
     "text": [
      "+------------+\n",
      "| location_id|\n",
      "+------------+\n",
      "|500000030009|\n",
      "|500000040009|\n",
      "|500000010606|\n",
      "+------------+\n",
      "only showing top 3 rows\n",
      "\n"
     ]
    }
   ],
   "source": [
    "df.select('location_id').show(3)"
   ]
  },
  {
   "cell_type": "code",
   "execution_count": 10,
   "metadata": {},
   "outputs": [
    {
     "name": "stdout",
     "output_type": "stream",
     "text": [
      "+------------+-------------------+\n",
      "| location_id|      creation_time|\n",
      "+------------+-------------------+\n",
      "|500000030009|2021-04-30 23:59:59|\n",
      "|500000040009|2021-05-01 00:00:02|\n",
      "|500000010606|2021-05-01 00:00:08|\n",
      "|500000020508|2021-05-01 00:00:11|\n",
      "|500000020606|2021-05-01 00:00:11|\n",
      "|500000040508|2021-05-01 00:00:14|\n",
      "|500000030408|2021-05-01 00:00:17|\n",
      "|500000030206|2021-05-01 00:00:20|\n",
      "|500000040408|2021-05-01 00:00:20|\n",
      "|500000010106|2021-05-01 00:00:23|\n",
      "|500000010308|2021-05-01 00:00:23|\n",
      "|500000030106|2021-05-01 00:00:26|\n",
      "|500000030308|2021-05-01 00:00:26|\n",
      "|500000040106|2021-05-01 00:00:29|\n",
      "|500000040308|2021-05-01 00:00:29|\n",
      "|500000010208|2021-05-01 00:00:32|\n",
      "|500000020006|2021-05-01 00:00:33|\n",
      "|500000040108|2021-05-01 00:00:35|\n",
      "|500000040006|2021-05-01 00:00:36|\n",
      "|500000010510|2021-05-01 00:00:41|\n",
      "+------------+-------------------+\n",
      "only showing top 20 rows\n",
      "\n"
     ]
    }
   ],
   "source": [
    "df.select(['location_id','creation_time']).show()"
   ]
  }
 ],
 "metadata": {
  "kernelspec": {
   "display_name": "base",
   "language": "python",
   "name": "python3"
  },
  "language_info": {
   "codemirror_mode": {
    "name": "ipython",
    "version": 3
   },
   "file_extension": ".py",
   "mimetype": "text/x-python",
   "name": "python",
   "nbconvert_exporter": "python",
   "pygments_lexer": "ipython3",
   "version": "3.11.4"
  }
 },
 "nbformat": 4,
 "nbformat_minor": 2
}
