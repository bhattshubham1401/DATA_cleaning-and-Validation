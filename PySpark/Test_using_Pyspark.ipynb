{
 "cells": [
  {
   "cell_type": "code",
   "execution_count": null,
   "metadata": {},
   "outputs": [],
   "source": []
  },
  {
   "cell_type": "code",
   "execution_count": null,
   "metadata": {},
   "outputs": [],
   "source": []
  },
  {
   "cell_type": "code",
   "execution_count": 1,
   "metadata": {},
   "outputs": [],
   "source": [
    "from pyspark.sql import SparkSession\n",
    "import pandas as pd\n",
    "from pymongo import MongoClient\n",
    "import pyspark"
   ]
  },
  {
   "cell_type": "code",
   "execution_count": 2,
   "metadata": {},
   "outputs": [],
   "source": [
    "spark=SparkSession.builder.appName('start').getOrCreate()\n"
   ]
  },
  {
   "cell_type": "code",
   "execution_count": 3,
   "metadata": {},
   "outputs": [],
   "source": [
    "spark.conf.set('spark.sql.repl.eagerEval.enabled', True)"
   ]
  },
  {
   "cell_type": "code",
   "execution_count": null,
   "metadata": {},
   "outputs": [],
   "source": [
    "spark = SparkSession.builder \\\n",
    "    .appName(\"Your\") \\\n",
    "    .master(\"local[*]\") \\\n",
    "    .getOrCreate()"
   ]
  },
  {
   "cell_type": "code",
   "execution_count": 4,
   "metadata": {},
   "outputs": [],
   "source": [
    "df=spark.read.options().parquet(r\"D:\\Data_Files\\data_ingestion\\final.parquet\",inferSchema=True)"
   ]
  },
  {
   "cell_type": "code",
   "execution_count": 5,
   "metadata": {},
   "outputs": [],
   "source": [
    "parquet_path=(\"D:/Data_Files/data_ingestion/final_files/final.parquet\",\"D:/Data_Files/data_ingestion/final_files/final1.parquet\",\n",
    "              \"D:/Data_Files/data_ingestion/final_files/final2.parquet\",\"D:/Data_Files/data_ingestion/final_files/final3.parquet\"\n",
    "              ,\"D:/Data_Files/data_ingestion/final_files/final4.parquet\")\n"
   ]
  },
  {
   "cell_type": "code",
   "execution_count": 6,
   "metadata": {},
   "outputs": [],
   "source": [
    "df1=spark.read.options().parquet(*parquet_path)"
   ]
  },
  {
   "cell_type": "code",
   "execution_count": 7,
   "metadata": {},
   "outputs": [
    {
     "name": "stdout",
     "output_type": "stream",
     "text": [
      "+------------+-------------------+----------------+-----------+\n",
      "| location_id|      creation_time|grid_reading_kwh|meter_sr_no|\n",
      "+------------+-------------------+----------------+-----------+\n",
      "|500000030009|2021-04-30 23:59:59|            45.0| DAL0000991|\n",
      "|500000040009|2021-05-01 00:00:02|           144.0| DAL0000537|\n",
      "|500000010606|2021-05-01 00:00:08|             4.0| DAL0000650|\n",
      "|500000020508|2021-05-01 00:00:11|           140.0| DAL0000703|\n",
      "|500000020606|2021-05-01 00:00:11|            15.0| DAL0000651|\n",
      "|500000040508|2021-05-01 00:00:14|           110.0| DAL0000716|\n",
      "|500000030408|2021-05-01 00:00:17|            93.0| DAL0000705|\n",
      "|500000030206|2021-05-01 00:00:20|            21.0| DAL0000649|\n",
      "|500000040408|2021-05-01 00:00:20|            61.0| DAL0000720|\n",
      "|500000010106|2021-05-01 00:00:23|             5.0| DAL0000235|\n",
      "|500000010308|2021-05-01 00:00:23|            62.0| DAL0000712|\n",
      "|500000030106|2021-05-01 00:00:26|             2.0| DAL0000236|\n",
      "|500000030308|2021-05-01 00:00:26|            20.0| DAL0000709|\n",
      "|500000040106|2021-05-01 00:00:29|            11.0| DAL0000237|\n",
      "|500000040308|2021-05-01 00:00:29|            54.0| DAL0000706|\n",
      "|500000010208|2021-05-01 00:00:32|            77.0| DAL0000711|\n",
      "|500000020006|2021-05-01 00:00:33|             3.0| DAL0000238|\n",
      "|500000040108|2021-05-01 00:00:35|            88.0| DAL0000710|\n",
      "|500000040006|2021-05-01 00:00:36|             9.0| DAL0000239|\n",
      "|500000010510|2021-05-01 00:00:41|            82.0| DAL0000715|\n",
      "+------------+-------------------+----------------+-----------+\n",
      "only showing top 20 rows\n",
      "\n"
     ]
    }
   ],
   "source": [
    "df1.show()"
   ]
  },
  {
   "cell_type": "code",
   "execution_count": 8,
   "metadata": {},
   "outputs": [
    {
     "name": "stdout",
     "output_type": "stream",
     "text": [
      "+-------+--------------------+-----------------+------------------+\n",
      "|summary|         location_id| grid_reading_kwh|       meter_sr_no|\n",
      "+-------+--------------------+-----------------+------------------+\n",
      "|  count|           117158784|        117158784|         117158784|\n",
      "|   mean|5.000000270163167E11|4746.180966153088| 8917726.902084913|\n",
      "| stddev|    18278.6219878708|4576.588929671927|1727525.5765619588|\n",
      "|    min|        500000000035|              0.0|           3979172|\n",
      "|    max|        500000400810|          40564.0|              NULL|\n",
      "+-------+--------------------+-----------------+------------------+\n",
      "\n"
     ]
    }
   ],
   "source": [
    "df.describe().show()"
   ]
  },
  {
   "cell_type": "code",
   "execution_count": 9,
   "metadata": {},
   "outputs": [
    {
     "data": {
      "text/plain": [
       "585793920"
      ]
     },
     "execution_count": 9,
     "metadata": {},
     "output_type": "execute_result"
    }
   ],
   "source": [
    "df1.count()"
   ]
  },
  {
   "cell_type": "code",
   "execution_count": null,
   "metadata": {},
   "outputs": [],
   "source": [
    "# df1=spark.read.options().parquet(r\"D:\\Data_Files\\data_ingestion\\Data.parquet\")\n",
    "df1=spark.read.options().parquet(\"D:/Data_Files/data_ingestion/final.parquet\")"
   ]
  },
  {
   "cell_type": "code",
   "execution_count": null,
   "metadata": {},
   "outputs": [],
   "source": []
  },
  {
   "cell_type": "code",
   "execution_count": null,
   "metadata": {},
   "outputs": [],
   "source": []
  },
  {
   "cell_type": "code",
   "execution_count": null,
   "metadata": {},
   "outputs": [],
   "source": [
    "df=spark.read.options().parquet(r\"D:/Data_Files/data_ingestion/Files/data.parquet\")"
   ]
  },
  {
   "cell_type": "code",
   "execution_count": null,
   "metadata": {},
   "outputs": [],
   "source": []
  },
  {
   "cell_type": "code",
   "execution_count": null,
   "metadata": {},
   "outputs": [],
   "source": [
    "# df=spark.read.options().parquet(\"D:/Data_Files/data_ingestion/final.parquet\")\n",
    "# df1=spark.read.options().parquet(\"D:/Data_Files/data_ingestion/data.parquet\")\n",
    "# df2=spark.read.options().parquet(\"D:/Data_Files/data_ingestion/data1.parquet\")\n",
    "# df3=spark.read.options().parquet(\"D:/Data_Files/data_ingestion/data2.parquet\")\n",
    "# df4=spark.read.options().parquet(\"D:/Data_Files/data_ingestion/data3.parquet\")\n",
    "# df5=spark.read.options().parquet(\"D:/Data_Files/data_ingestion/data4.parquet\")"
   ]
  },
  {
   "cell_type": "code",
   "execution_count": null,
   "metadata": {},
   "outputs": [],
   "source": []
  },
  {
   "cell_type": "code",
   "execution_count": null,
   "metadata": {},
   "outputs": [],
   "source": [
    "df=spark.read.options().parquet(r\"D:\\Data_Files\\data_ingestion\\final.parquet\")"
   ]
  },
  {
   "cell_type": "code",
   "execution_count": null,
   "metadata": {},
   "outputs": [],
   "source": [
    "df.head(2)"
   ]
  },
  {
   "cell_type": "code",
   "execution_count": null,
   "metadata": {},
   "outputs": [],
   "source": [
    "df.printSchema()"
   ]
  },
  {
   "cell_type": "code",
   "execution_count": null,
   "metadata": {},
   "outputs": [],
   "source": [
    "type(df)"
   ]
  },
  {
   "cell_type": "code",
   "execution_count": null,
   "metadata": {},
   "outputs": [],
   "source": [
    "df.columns"
   ]
  },
  {
   "cell_type": "code",
   "execution_count": null,
   "metadata": {},
   "outputs": [],
   "source": [
    "df.tail(5)"
   ]
  },
  {
   "cell_type": "code",
   "execution_count": null,
   "metadata": {},
   "outputs": [],
   "source": [
    "df.select('location_id').show(3)"
   ]
  },
  {
   "cell_type": "code",
   "execution_count": null,
   "metadata": {},
   "outputs": [],
   "source": [
    "df.select(['location_id','creation_time']).show()"
   ]
  },
  {
   "cell_type": "code",
   "execution_count": null,
   "metadata": {},
   "outputs": [],
   "source": []
  },
  {
   "cell_type": "code",
   "execution_count": null,
   "metadata": {},
   "outputs": [],
   "source": []
  },
  {
   "cell_type": "code",
   "execution_count": null,
   "metadata": {},
   "outputs": [],
   "source": []
  },
  {
   "cell_type": "code",
   "execution_count": null,
   "metadata": {},
   "outputs": [],
   "source": []
  },
  {
   "cell_type": "code",
   "execution_count": null,
   "metadata": {},
   "outputs": [],
   "source": []
  },
  {
   "cell_type": "code",
   "execution_count": null,
   "metadata": {},
   "outputs": [],
   "source": []
  },
  {
   "cell_type": "code",
   "execution_count": null,
   "metadata": {},
   "outputs": [],
   "source": []
  }
 ],
 "metadata": {
  "kernelspec": {
   "display_name": "base",
   "language": "python",
   "name": "python3"
  },
  "language_info": {
   "codemirror_mode": {
    "name": "ipython",
    "version": 3
   },
   "file_extension": ".py",
   "mimetype": "text/x-python",
   "name": "python",
   "nbconvert_exporter": "python",
   "pygments_lexer": "ipython3",
   "version": "3.8.18"
  }
 },
 "nbformat": 4,
 "nbformat_minor": 2
}
