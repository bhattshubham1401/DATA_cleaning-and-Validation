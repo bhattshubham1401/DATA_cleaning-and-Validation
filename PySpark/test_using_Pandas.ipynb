{
 "cells": [
  {
   "cell_type": "code",
   "execution_count": 7,
   "metadata": {},
   "outputs": [],
   "source": [
    "import pandas as pd\n",
    "import numpy as np\n",
    "import matplotlib.pyplot as plt \n",
    "%matplotlib inline\n",
    "plt.rcParams['figure.figsize']=(20,5)\n",
    "import plotly.express as px\n",
    "\n",
    "import warnings\n",
    "warnings.filterwarnings(\"ignore\")\n",
    "\n",
    "from statsmodels.tsa.seasonal import seasonal_decompose\n",
    "from dateutil.parser import parse\n",
    "import pandas as pd\n",
    "from statsmodels.tsa.stattools import adfuller\n",
    "import pyarrow.parquet as pq"
   ]
  },
  {
   "cell_type": "code",
   "execution_count": 8,
   "metadata": {},
   "outputs": [],
   "source": [
    "df=pd.read_parquet(r\"D:\\Data_Files\\data_ingestion\\final.parquet\")"
   ]
  },
  {
   "cell_type": "code",
   "execution_count": 9,
   "metadata": {},
   "outputs": [
    {
     "data": {
      "text/html": [
       "<div>\n",
       "<style scoped>\n",
       "    .dataframe tbody tr th:only-of-type {\n",
       "        vertical-align: middle;\n",
       "    }\n",
       "\n",
       "    .dataframe tbody tr th {\n",
       "        vertical-align: top;\n",
       "    }\n",
       "\n",
       "    .dataframe thead th {\n",
       "        text-align: right;\n",
       "    }\n",
       "</style>\n",
       "<table border=\"1\" class=\"dataframe\">\n",
       "  <thead>\n",
       "    <tr style=\"text-align: right;\">\n",
       "      <th></th>\n",
       "      <th>location_id</th>\n",
       "      <th>creation_time</th>\n",
       "      <th>grid_reading_kwh</th>\n",
       "      <th>meter_sr_no</th>\n",
       "    </tr>\n",
       "  </thead>\n",
       "  <tbody>\n",
       "    <tr>\n",
       "      <th>0</th>\n",
       "      <td>500000030009</td>\n",
       "      <td>2021-04-30 23:59:59</td>\n",
       "      <td>45.0</td>\n",
       "      <td>DAL0000991</td>\n",
       "    </tr>\n",
       "  </tbody>\n",
       "</table>\n",
       "</div>"
      ],
      "text/plain": [
       "    location_id       creation_time  grid_reading_kwh meter_sr_no\n",
       "0  500000030009 2021-04-30 23:59:59              45.0  DAL0000991"
      ]
     },
     "execution_count": 9,
     "metadata": {},
     "output_type": "execute_result"
    }
   ],
   "source": [
    "df.head(1)"
   ]
  },
  {
   "cell_type": "code",
   "execution_count": 17,
   "metadata": {},
   "outputs": [
    {
     "name": "stdout",
     "output_type": "stream",
     "text": [
      "<class 'pandas.core.frame.DataFrame'>\n",
      "RangeIndex: 117158784 entries, 0 to 117158783\n",
      "Data columns (total 4 columns):\n",
      " #   Column            Dtype         \n",
      "---  ------            -----         \n",
      " 0   location_id       object        \n",
      " 1   creation_time     datetime64[ns]\n",
      " 2   grid_reading_kwh  float64       \n",
      " 3   meter_sr_no       object        \n",
      "dtypes: datetime64[ns](1), float64(1), object(2)\n",
      "memory usage: 3.5+ GB\n"
     ]
    }
   ],
   "source": [
    "df.info()"
   ]
  },
  {
   "cell_type": "code",
   "execution_count": 11,
   "metadata": {},
   "outputs": [],
   "source": [
    "id=df['location_id'].nunique()"
   ]
  },
  {
   "cell_type": "code",
   "execution_count": null,
   "metadata": {},
   "outputs": [],
   "source": []
  },
  {
   "cell_type": "code",
   "execution_count": 12,
   "metadata": {},
   "outputs": [],
   "source": [
    "df2=df.groupby('location_id')"
   ]
  },
  {
   "cell_type": "code",
   "execution_count": 13,
   "metadata": {},
   "outputs": [
    {
     "data": {
      "text/plain": [
       "<pandas.core.groupby.generic.DataFrameGroupBy object at 0x00000253F6C533D0>"
      ]
     },
     "execution_count": 13,
     "metadata": {},
     "output_type": "execute_result"
    }
   ],
   "source": [
    "df2"
   ]
  },
  {
   "cell_type": "code",
   "execution_count": null,
   "metadata": {},
   "outputs": [],
   "source": []
  },
  {
   "cell_type": "code",
   "execution_count": 15,
   "metadata": {},
   "outputs": [
    {
     "name": "stdout",
     "output_type": "stream",
     "text": [
      "      location_id  grid_reading_kwh\n",
      "0    500000000035        7129280.51\n",
      "1    500000000126       59099712.23\n",
      "2    500000000211       29558828.60\n",
      "3    500000000235       13869775.76\n",
      "4    500000000426       77731671.00\n",
      "..            ...               ...\n",
      "936  500000300810       34284226.00\n",
      "937  500000330208           5983.00\n",
      "938  500000400406        8940107.00\n",
      "939  500000400409       21879220.00\n",
      "940  500000400810        3032286.00\n",
      "\n",
      "[941 rows x 2 columns]\n"
     ]
    }
   ],
   "source": [
    "df1 = df.groupby('location_id')\n",
    "\n",
    "# Perform some operations on the grouped data (for example, calculate the sum)\n",
    "df1 = df1.sum()\n",
    "\n",
    "# Resetting the index to convert it back to a DataFrame\n",
    "result_df = df1.reset_index()\n",
    "\n",
    "# Print the result\n",
    "print(result_df)"
   ]
  },
  {
   "cell_type": "code",
   "execution_count": null,
   "metadata": {},
   "outputs": [],
   "source": []
  },
  {
   "cell_type": "code",
   "execution_count": null,
   "metadata": {},
   "outputs": [],
   "source": []
  },
  {
   "cell_type": "code",
   "execution_count": 25,
   "metadata": {},
   "outputs": [],
   "source": [
    "df1 = df.groupby('location_id')"
   ]
  },
  {
   "cell_type": "code",
   "execution_count": 26,
   "metadata": {},
   "outputs": [
    {
     "data": {
      "text/plain": [
       "<pandas.core.groupby.generic.DataFrameGroupBy object at 0x00000253B82D6710>"
      ]
     },
     "execution_count": 26,
     "metadata": {},
     "output_type": "execute_result"
    }
   ],
   "source": [
    "df1"
   ]
  },
  {
   "cell_type": "code",
   "execution_count": 6,
   "metadata": {},
   "outputs": [
    {
     "name": "stdout",
     "output_type": "stream",
     "text": [
      "('500000000035',             location_id       creation_time  grid_reading_kwh meter_sr_no\n",
      "88129240   500000000035 2023-03-04 14:31:22               5.0     9513340\n",
      "88129973   500000000035 2023-03-04 14:40:38               5.0     9513340\n",
      "88130726   500000000035 2023-03-04 14:50:23               5.0     9513340\n",
      "88131443   500000000035 2023-03-04 15:00:08               5.0     9513340\n",
      "88132211   500000000035 2023-03-04 15:09:56               5.0     9513340\n",
      "...                 ...                 ...               ...         ...\n",
      "117152612  500000000035 2023-10-11 13:13:15             704.0     9513340\n",
      "117154009  500000000035 2023-10-11 13:26:01             704.0     9513340\n",
      "117155388  500000000035 2023-10-11 13:38:46             704.0     9513340\n",
      "117156770  500000000035 2023-10-11 13:51:31             704.0     9513340\n",
      "117158135  500000000035 2023-10-11 14:04:17             704.0     9513340\n",
      "\n",
      "[24889 rows x 4 columns])\n"
     ]
    }
   ],
   "source": [
    "for i in df1:\n",
    "    print(i)\n",
    "    break"
   ]
  },
  {
   "cell_type": "code",
   "execution_count": 7,
   "metadata": {},
   "outputs": [],
   "source": [
    "df2=pd.DataFrame(i)"
   ]
  },
  {
   "cell_type": "code",
   "execution_count": null,
   "metadata": {},
   "outputs": [],
   "source": [
    "df2"
   ]
  },
  {
   "cell_type": "code",
   "execution_count": null,
   "metadata": {},
   "outputs": [],
   "source": [
    "lst=[]\n",
    "\n",
    "for location in id:\n",
    "    df=dframe[dframe['sensor'] == location ]\n",
    "    # df['Clock']=pd.to_datetime(df['Clock'])\n",
    "    df.set_index(['Clock'],inplace=True,drop= True)\n",
    "    df = df[df.index >= '2022-11-18 00:00:00']\n",
    "    filtered_df = df[((df['R_Voltage'] == 0) | (df['Y_Voltage'] == 0) | (df['B_Voltage'] == 0)) & \n",
    "                     ((df['R_Current'] == 0) | (df['Y_Current'] == 0) | (df['B_Current'] == 0))]\n",
    "    filtered_df['Kwh'] = 0\n",
    "    df.loc[filtered_df.index, :] = filtered_df\n",
    "    df=df[['Kwh']].resample(rule='1H').sum()\n",
    "    # df['id']=location\n",
    "    df['Kwh_r']=df['Kwh'].rolling(window=24).mean()\n",
    "    df.dropna(inplace=True)\n",
    "\n",
    "    lst.append(df)"
   ]
  },
  {
   "cell_type": "code",
   "execution_count": null,
   "metadata": {},
   "outputs": [],
   "source": []
  },
  {
   "cell_type": "code",
   "execution_count": null,
   "metadata": {},
   "outputs": [],
   "source": []
  },
  {
   "cell_type": "code",
   "execution_count": null,
   "metadata": {},
   "outputs": [],
   "source": []
  },
  {
   "cell_type": "code",
   "execution_count": null,
   "metadata": {},
   "outputs": [],
   "source": []
  },
  {
   "cell_type": "code",
   "execution_count": null,
   "metadata": {},
   "outputs": [],
   "source": []
  },
  {
   "cell_type": "code",
   "execution_count": null,
   "metadata": {},
   "outputs": [],
   "source": []
  }
 ],
 "metadata": {
  "kernelspec": {
   "display_name": "base",
   "language": "python",
   "name": "python3"
  },
  "language_info": {
   "codemirror_mode": {
    "name": "ipython",
    "version": 3
   },
   "file_extension": ".py",
   "mimetype": "text/x-python",
   "name": "python",
   "nbconvert_exporter": "python",
   "pygments_lexer": "ipython3",
   "version": "3.11.4"
  }
 },
 "nbformat": 4,
 "nbformat_minor": 2
}
