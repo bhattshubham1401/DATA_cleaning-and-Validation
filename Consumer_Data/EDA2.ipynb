{
 "cells": [
  {
   "cell_type": "code",
   "execution_count": 1,
   "metadata": {},
   "outputs": [],
   "source": [
    "import pandas as pd\n",
    "import numpy as np\n",
    "import warnings\n",
    "warnings.filterwarnings(\"ignore\")"
   ]
  },
  {
   "cell_type": "code",
   "execution_count": 2,
   "metadata": {},
   "outputs": [],
   "source": [
    "df=pd.read_parquet(\"D:/Data_Files/data_ingestion/final.parquet\")"
   ]
  },
  {
   "cell_type": "code",
   "execution_count": 3,
   "metadata": {},
   "outputs": [],
   "source": [
    "# df"
   ]
  },
  {
   "cell_type": "code",
   "execution_count": 4,
   "metadata": {},
   "outputs": [],
   "source": [
    "dframe= pd.read_csv('C:/Users/Harsh/Desktop/npcl.5_id_data.csv')"
   ]
  },
  {
   "cell_type": "code",
   "execution_count": 5,
   "metadata": {},
   "outputs": [],
   "source": [
    "dframe=dframe[['location_id','data.creation_time','data.grid_reading_kwh','data.meter_sr_no',]]"
   ]
  },
  {
   "cell_type": "code",
   "execution_count": 6,
   "metadata": {},
   "outputs": [],
   "source": [
    "# dframe"
   ]
  },
  {
   "cell_type": "code",
   "execution_count": 11,
   "metadata": {},
   "outputs": [],
   "source": [
    "df1=df.groupby('location_id')\n",
    "df2=dframe.groupby('location_id')"
   ]
  },
  {
   "cell_type": "code",
   "execution_count": 9,
   "metadata": {},
   "outputs": [
    {
     "name": "stdout",
     "output_type": "stream",
     "text": [
      "<class 'pandas.core.frame.DataFrame'>\n",
      "RangeIndex: 117158784 entries, 0 to 117158783\n",
      "Data columns (total 4 columns):\n",
      " #   Column            Dtype         \n",
      "---  ------            -----         \n",
      " 0   location_id       object        \n",
      " 1   creation_time     datetime64[us]\n",
      " 2   grid_reading_kwh  float64       \n",
      " 3   meter_sr_no       object        \n",
      "dtypes: datetime64[us](1), float64(1), object(2)\n",
      "memory usage: 3.5+ GB\n"
     ]
    }
   ],
   "source": [
    "df.info()"
   ]
  },
  {
   "cell_type": "code",
   "execution_count": 10,
   "metadata": {},
   "outputs": [
    {
     "name": "stdout",
     "output_type": "stream",
     "text": [
      "<class 'pandas.core.frame.DataFrame'>\n",
      "RangeIndex: 1048575 entries, 0 to 1048574\n",
      "Data columns (total 4 columns):\n",
      " #   Column                 Non-Null Count    Dtype  \n",
      "---  ------                 --------------    -----  \n",
      " 0   location_id            1048575 non-null  int64  \n",
      " 1   data.creation_time     1048575 non-null  object \n",
      " 2   data.grid_reading_kwh  1048575 non-null  float64\n",
      " 3   data.meter_sr_no       1048575 non-null  object \n",
      "dtypes: float64(1), int64(1), object(2)\n",
      "memory usage: 32.0+ MB\n"
     ]
    }
   ],
   "source": [
    "dframe.info()"
   ]
  },
  {
   "cell_type": "code",
   "execution_count": null,
   "metadata": {},
   "outputs": [],
   "source": [
    "# Status \"P\"\n",
    "combined_df=d_frame[d_frame['data.status']== \"P\"]\n",
    "\n",
    "#no consumption\n",
    "combined_df.loc[combined_df['data.error_reason'] == 'No Consumption', 'data.grid_kwh_unit'] = 0\n",
    "\n",
    "# null values\n",
    "if combined_df.isnull().sum().sum()>0:\n",
    "    combined_df.dropna(inplace=True)\n",
    "\n",
    "# special character\n",
    "def special_char():\n",
    "    special_character_pattern = r'[!@#$%^&*()]'\n",
    "    rows_with_special_chars = combined_df[combined_df['location_id'].str.contains(special_character_pattern, regex=True)]\n",
    "    return ( rows_with_special_chars)\n",
    "if combined_df['location_id'].dtype != 'int64':\n",
    "    special_char()\n",
    "\n",
    "#  creation time relabelling \n",
    "# combined_df['data.creation_time']=pd.to_datetime(combined_df['data.creation_time'])\n",
    "\n",
    "# integer conversion\n",
    "combined_df['data.grid_reading_kwh']=combined_df['data.grid_reading_kwh'].round()"
   ]
  },
  {
   "cell_type": "code",
   "execution_count": null,
   "metadata": {},
   "outputs": [],
   "source": [
    "# df2=d_frame.groupby(\"location_id\")"
   ]
  },
  {
   "cell_type": "code",
   "execution_count": 12,
   "metadata": {},
   "outputs": [
    {
     "data": {
      "text/html": [
       "<div>\n",
       "<style scoped>\n",
       "    .dataframe tbody tr th:only-of-type {\n",
       "        vertical-align: middle;\n",
       "    }\n",
       "\n",
       "    .dataframe tbody tr th {\n",
       "        vertical-align: top;\n",
       "    }\n",
       "\n",
       "    .dataframe thead th {\n",
       "        text-align: right;\n",
       "    }\n",
       "</style>\n",
       "<table border=\"1\" class=\"dataframe\">\n",
       "  <thead>\n",
       "    <tr style=\"text-align: right;\">\n",
       "      <th></th>\n",
       "      <th>location_id</th>\n",
       "      <th>creation_time</th>\n",
       "      <th>grid_reading_kwh</th>\n",
       "      <th>meter_sr_no</th>\n",
       "    </tr>\n",
       "  </thead>\n",
       "  <tbody>\n",
       "    <tr>\n",
       "      <th>0</th>\n",
       "      <td>500000030009</td>\n",
       "      <td>2021-04-30 23:59:59</td>\n",
       "      <td>45.0</td>\n",
       "      <td>DAL0000991</td>\n",
       "    </tr>\n",
       "  </tbody>\n",
       "</table>\n",
       "</div>"
      ],
      "text/plain": [
       "    location_id       creation_time  grid_reading_kwh meter_sr_no\n",
       "0  500000030009 2021-04-30 23:59:59              45.0  DAL0000991"
      ]
     },
     "execution_count": 12,
     "metadata": {},
     "output_type": "execute_result"
    }
   ],
   "source": [
    "df.head(1)"
   ]
  },
  {
   "cell_type": "code",
   "execution_count": 21,
   "metadata": {},
   "outputs": [],
   "source": [
    "final_lst=[]\n",
    "for id, datafame in df1:\n",
    "    df=datafame\n",
    "    df['creation_time']=pd.to_datetime(df['creation_time'])\n",
    "    df.set_index(['creation_time'],drop=True, inplace=True)\n",
    "    \n",
    "    # dfresample=df[['data.grid_reading_kwh']].resample(rule='1H').max()\n",
    "\n",
    "    # df['units']=round((df['data.grid_reading_kwh']-df['data.grid_reading_kwh'].shift(1)),2)\n",
    "    # df.dropna(inplace=True)\n",
    "    # df = df[df['units'] >= 0]\n",
    "    df_resample=df[['grid_reading_kwh']].resample(rule='1H').max()\n",
    "    # df_resample['data.grid_reading_kwh'].interpolate(inplace=True)\n",
    "    # df_resample['grid_reading']=round(df_resample['data.grid_reading_kwh'])\n",
    "    # df_resample['unit']=df_resample['grid_reading']-df_resample['grid_reading'].shift(1)\n",
    "    # df_resample = df_resample[df_resample['unit'] >= 0]\n",
    "    # df_resample.drop(['data.grid_reading_kwh'],axis=1,inplace=True)\n",
    "    # print(id)\n",
    "    \n",
    "\n",
    "    final_lst.append(df_resample)\n",
    "\n",
    "final_df = pd.concat(final_lst)"
   ]
  },
  {
   "cell_type": "code",
   "execution_count": 17,
   "metadata": {},
   "outputs": [
    {
     "data": {
      "text/plain": [
       "941"
      ]
     },
     "execution_count": 17,
     "metadata": {},
     "output_type": "execute_result"
    }
   ],
   "source": [
    "len(final_lst)"
   ]
  },
  {
   "cell_type": "code",
   "execution_count": 22,
   "metadata": {},
   "outputs": [
    {
     "data": {
      "text/html": [
       "<div>\n",
       "<style scoped>\n",
       "    .dataframe tbody tr th:only-of-type {\n",
       "        vertical-align: middle;\n",
       "    }\n",
       "\n",
       "    .dataframe tbody tr th {\n",
       "        vertical-align: top;\n",
       "    }\n",
       "\n",
       "    .dataframe thead th {\n",
       "        text-align: right;\n",
       "    }\n",
       "</style>\n",
       "<table border=\"1\" class=\"dataframe\">\n",
       "  <thead>\n",
       "    <tr style=\"text-align: right;\">\n",
       "      <th></th>\n",
       "      <th>grid_reading_kwh</th>\n",
       "    </tr>\n",
       "    <tr>\n",
       "      <th>creation_time</th>\n",
       "      <th></th>\n",
       "    </tr>\n",
       "  </thead>\n",
       "  <tbody>\n",
       "    <tr>\n",
       "      <th>2023-03-04 14:00:00</th>\n",
       "      <td>5.0</td>\n",
       "    </tr>\n",
       "    <tr>\n",
       "      <th>2023-03-04 15:00:00</th>\n",
       "      <td>5.0</td>\n",
       "    </tr>\n",
       "    <tr>\n",
       "      <th>2023-03-04 16:00:00</th>\n",
       "      <td>5.0</td>\n",
       "    </tr>\n",
       "    <tr>\n",
       "      <th>2023-03-04 17:00:00</th>\n",
       "      <td>5.0</td>\n",
       "    </tr>\n",
       "    <tr>\n",
       "      <th>2023-03-04 18:00:00</th>\n",
       "      <td>5.0</td>\n",
       "    </tr>\n",
       "    <tr>\n",
       "      <th>...</th>\n",
       "      <td>...</td>\n",
       "    </tr>\n",
       "    <tr>\n",
       "      <th>2023-10-11 10:00:00</th>\n",
       "      <td>347.0</td>\n",
       "    </tr>\n",
       "    <tr>\n",
       "      <th>2023-10-11 11:00:00</th>\n",
       "      <td>347.0</td>\n",
       "    </tr>\n",
       "    <tr>\n",
       "      <th>2023-10-11 12:00:00</th>\n",
       "      <td>347.0</td>\n",
       "    </tr>\n",
       "    <tr>\n",
       "      <th>2023-10-11 13:00:00</th>\n",
       "      <td>347.0</td>\n",
       "    </tr>\n",
       "    <tr>\n",
       "      <th>2023-10-11 14:00:00</th>\n",
       "      <td>347.0</td>\n",
       "    </tr>\n",
       "  </tbody>\n",
       "</table>\n",
       "<p>10030280 rows × 1 columns</p>\n",
       "</div>"
      ],
      "text/plain": [
       "                     grid_reading_kwh\n",
       "creation_time                        \n",
       "2023-03-04 14:00:00               5.0\n",
       "2023-03-04 15:00:00               5.0\n",
       "2023-03-04 16:00:00               5.0\n",
       "2023-03-04 17:00:00               5.0\n",
       "2023-03-04 18:00:00               5.0\n",
       "...                               ...\n",
       "2023-10-11 10:00:00             347.0\n",
       "2023-10-11 11:00:00             347.0\n",
       "2023-10-11 12:00:00             347.0\n",
       "2023-10-11 13:00:00             347.0\n",
       "2023-10-11 14:00:00             347.0\n",
       "\n",
       "[10030280 rows x 1 columns]"
      ]
     },
     "execution_count": 22,
     "metadata": {},
     "output_type": "execute_result"
    }
   ],
   "source": [
    "final_df"
   ]
  },
  {
   "cell_type": "code",
   "execution_count": 18,
   "metadata": {},
   "outputs": [],
   "source": [
    "df65=final_lst[0]"
   ]
  },
  {
   "cell_type": "code",
   "execution_count": 19,
   "metadata": {},
   "outputs": [
    {
     "data": {
      "text/html": [
       "<div>\n",
       "<style scoped>\n",
       "    .dataframe tbody tr th:only-of-type {\n",
       "        vertical-align: middle;\n",
       "    }\n",
       "\n",
       "    .dataframe tbody tr th {\n",
       "        vertical-align: top;\n",
       "    }\n",
       "\n",
       "    .dataframe thead th {\n",
       "        text-align: right;\n",
       "    }\n",
       "</style>\n",
       "<table border=\"1\" class=\"dataframe\">\n",
       "  <thead>\n",
       "    <tr style=\"text-align: right;\">\n",
       "      <th></th>\n",
       "      <th>grid_reading_kwh</th>\n",
       "    </tr>\n",
       "    <tr>\n",
       "      <th>creation_time</th>\n",
       "      <th></th>\n",
       "    </tr>\n",
       "  </thead>\n",
       "  <tbody>\n",
       "    <tr>\n",
       "      <th>2023-03-04 14:00:00</th>\n",
       "      <td>5.0</td>\n",
       "    </tr>\n",
       "    <tr>\n",
       "      <th>2023-03-04 15:00:00</th>\n",
       "      <td>5.0</td>\n",
       "    </tr>\n",
       "    <tr>\n",
       "      <th>2023-03-04 16:00:00</th>\n",
       "      <td>5.0</td>\n",
       "    </tr>\n",
       "    <tr>\n",
       "      <th>2023-03-04 17:00:00</th>\n",
       "      <td>5.0</td>\n",
       "    </tr>\n",
       "    <tr>\n",
       "      <th>2023-03-04 18:00:00</th>\n",
       "      <td>5.0</td>\n",
       "    </tr>\n",
       "    <tr>\n",
       "      <th>...</th>\n",
       "      <td>...</td>\n",
       "    </tr>\n",
       "    <tr>\n",
       "      <th>2023-10-11 10:00:00</th>\n",
       "      <td>704.0</td>\n",
       "    </tr>\n",
       "    <tr>\n",
       "      <th>2023-10-11 11:00:00</th>\n",
       "      <td>704.0</td>\n",
       "    </tr>\n",
       "    <tr>\n",
       "      <th>2023-10-11 12:00:00</th>\n",
       "      <td>704.0</td>\n",
       "    </tr>\n",
       "    <tr>\n",
       "      <th>2023-10-11 13:00:00</th>\n",
       "      <td>704.0</td>\n",
       "    </tr>\n",
       "    <tr>\n",
       "      <th>2023-10-11 14:00:00</th>\n",
       "      <td>704.0</td>\n",
       "    </tr>\n",
       "  </tbody>\n",
       "</table>\n",
       "<p>5305 rows × 1 columns</p>\n",
       "</div>"
      ],
      "text/plain": [
       "                     grid_reading_kwh\n",
       "creation_time                        \n",
       "2023-03-04 14:00:00               5.0\n",
       "2023-03-04 15:00:00               5.0\n",
       "2023-03-04 16:00:00               5.0\n",
       "2023-03-04 17:00:00               5.0\n",
       "2023-03-04 18:00:00               5.0\n",
       "...                               ...\n",
       "2023-10-11 10:00:00             704.0\n",
       "2023-10-11 11:00:00             704.0\n",
       "2023-10-11 12:00:00             704.0\n",
       "2023-10-11 13:00:00             704.0\n",
       "2023-10-11 14:00:00             704.0\n",
       "\n",
       "[5305 rows x 1 columns]"
      ]
     },
     "execution_count": 19,
     "metadata": {},
     "output_type": "execute_result"
    }
   ],
   "source": [
    "df65"
   ]
  },
  {
   "cell_type": "code",
   "execution_count": null,
   "metadata": {},
   "outputs": [],
   "source": []
  },
  {
   "cell_type": "code",
   "execution_count": null,
   "metadata": {},
   "outputs": [],
   "source": [
    "lst=[]\n",
    "for id, datafame in df2:\n",
    "    df=datafame\n",
    "    lst.append(df)\n",
    "    # Perform operations on each group (group_df) if needed"
   ]
  },
  {
   "cell_type": "code",
   "execution_count": null,
   "metadata": {},
   "outputs": [],
   "source": [
    "df.info()"
   ]
  },
  {
   "cell_type": "code",
   "execution_count": null,
   "metadata": {},
   "outputs": [],
   "source": []
  },
  {
   "cell_type": "code",
   "execution_count": null,
   "metadata": {},
   "outputs": [],
   "source": []
  }
 ],
 "metadata": {
  "kernelspec": {
   "display_name": "base",
   "language": "python",
   "name": "python3"
  },
  "language_info": {
   "codemirror_mode": {
    "name": "ipython",
    "version": 3
   },
   "file_extension": ".py",
   "mimetype": "text/x-python",
   "name": "python",
   "nbconvert_exporter": "python",
   "pygments_lexer": "ipython3",
   "version": "3.11.5"
  }
 },
 "nbformat": 4,
 "nbformat_minor": 2
}
