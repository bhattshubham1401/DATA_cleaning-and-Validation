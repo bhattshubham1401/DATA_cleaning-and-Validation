{
 "cells": [
  {
   "cell_type": "code",
   "execution_count": 1,
   "metadata": {},
   "outputs": [],
   "source": [
    "import pandas as pd\n",
    "import numpy as np\n",
    "import warnings\n",
    "warnings.filterwarnings('ignore')"
   ]
  },
  {
   "cell_type": "code",
   "execution_count": 2,
   "metadata": {},
   "outputs": [],
   "source": [
    "dframe= pd.read_csv('C:/Users/Harsh/Desktop/npcl.5_id_data.csv')"
   ]
  },
  {
   "cell_type": "code",
   "execution_count": 3,
   "metadata": {},
   "outputs": [],
   "source": [
    "id=dframe['location_id'].unique()"
   ]
  },
  {
   "cell_type": "code",
   "execution_count": 4,
   "metadata": {},
   "outputs": [],
   "source": [
    "d_frame=dframe[['data.grid_reading_kwh','data.grid_kwh_unit','data.creation_time','data.status',\n",
    "'data.meter_sr_no','data.error_reason','data.R_voltage','data.Y_volatge',\n",
    "'data.B_voltage', 'data.r_current', 'data.y_current','data.b_current','site_id',\n",
    "'location_id','data.cumm_pf','data.frequency']]"
   ]
  },
  {
   "cell_type": "code",
   "execution_count": 19,
   "metadata": {},
   "outputs": [],
   "source": [
    "# combined_df['data.cumm_pf'].plot(figsize=(18,5))"
   ]
  },
  {
   "cell_type": "code",
   "execution_count": null,
   "metadata": {},
   "outputs": [],
   "source": []
  },
  {
   "cell_type": "markdown",
   "metadata": {},
   "source": [
    "checks"
   ]
  },
  {
   "cell_type": "code",
   "execution_count": 5,
   "metadata": {},
   "outputs": [],
   "source": [
    "# Status \"P\"\n",
    "combined_df=d_frame[d_frame['data.status']== \"P\"]\n",
    "\n",
    "#no consumption\n",
    "combined_df.loc[combined_df['data.error_reason'] == 'No Consumption', 'data.grid_kwh_unit'] = 0\n",
    "\n",
    "# null values\n",
    "if combined_df.isnull().sum().sum()>0:\n",
    "    combined_df.dropna(inplace=True)\n",
    "\n",
    "# special character\n",
    "def special_char():\n",
    "    special_character_pattern = r'[!@#$%^&*()]'\n",
    "    rows_with_special_chars = combined_df[combined_df['location_id'].str.contains(special_character_pattern, regex=True)]\n",
    "    return ( rows_with_special_chars)\n",
    "if combined_df['location_id'].dtype != 'int64':\n",
    "    special_char()\n",
    "\n",
    "#  creation time relabelling \n",
    "# combined_df['data.creation_time']=pd.to_datetime(combined_df['data.creation_time'])\n",
    "\n",
    "# integer conversion\n",
    "combined_df['data.grid_reading_kwh']=combined_df['data.grid_reading_kwh'].round()"
   ]
  },
  {
   "cell_type": "code",
   "execution_count": 6,
   "metadata": {},
   "outputs": [],
   "source": [
    "final_lst=[]\n",
    "for each_id in id:\n",
    "    df=combined_df[combined_df['location_id'] == each_id ]\n",
    "    df['data.creation_time']=pd.to_datetime(df['data.creation_time'])\n",
    "    df.set_index(['data.creation_time'],drop=True, inplace=True)\n",
    "    \n",
    "    # dfresample=df[['data.grid_reading_kwh']].resample(rule='1H').max()\n",
    "\n",
    "    # df['units']=round((df['data.grid_reading_kwh']-df['data.grid_reading_kwh'].shift(1)),2)\n",
    "    # df.dropna(inplace=True)\n",
    "    # df = df[df['units'] >= 0]\n",
    "    df_resample=df[['data.grid_reading_kwh']].resample(rule='1H').max()\n",
    "    df_resample['data.grid_reading_kwh'].interpolate(inplace=True)\n",
    "    df_resample['grid_reading']=round(df_resample['data.grid_reading_kwh'])\n",
    "    df_resample['unit']=df_resample['grid_reading']-df_resample['grid_reading'].shift(1)\n",
    "    df_resample = df_resample[df_resample['unit'] >= 0]\n",
    "    \n",
    "    \n",
    "\n",
    "    final_lst.append(df_resample)\n",
    "\n",
    "final_df = pd.concat(final_lst)"
   ]
  },
  {
   "cell_type": "code",
   "execution_count": 26,
   "metadata": {},
   "outputs": [],
   "source": [
    "df=final_lst[2]"
   ]
  },
  {
   "cell_type": "code",
   "execution_count": null,
   "metadata": {},
   "outputs": [],
   "source": []
  },
  {
   "cell_type": "code",
   "execution_count": null,
   "metadata": {},
   "outputs": [],
   "source": []
  }
 ],
 "metadata": {
  "kernelspec": {
   "display_name": "base",
   "language": "python",
   "name": "python3"
  },
  "language_info": {
   "codemirror_mode": {
    "name": "ipython",
    "version": 3
   },
   "file_extension": ".py",
   "mimetype": "text/x-python",
   "name": "python",
   "nbconvert_exporter": "python",
   "pygments_lexer": "ipython3",
   "version": "3.11.4"
  }
 },
 "nbformat": 4,
 "nbformat_minor": 2
}
