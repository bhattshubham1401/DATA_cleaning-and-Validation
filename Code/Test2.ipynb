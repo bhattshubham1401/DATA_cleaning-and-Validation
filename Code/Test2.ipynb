{
 "cells": [
  {
   "cell_type": "code",
   "execution_count": 1,
   "metadata": {},
   "outputs": [],
   "source": [
    "import pandas as pd\n",
    "import numpy as np\n",
    "import warnings\n",
    "warnings.filterwarnings('ignore')\n",
    "import matplotlib.pyplot as plt\n",
    "%matplotlib inline\n",
    "\n",
    "dframe= pd.read_csv('C:/Users/Harsh/Desktop/npcl.5_id_data.csv')\n",
    "id=dframe['location_id'].unique()\n",
    "\n",
    "# dframe.columns\n",
    "d_frame=dframe[['data.grid_reading_kwh','data.grid_kwh_unit','data.creation_time','data.status',\n",
    "'data.meter_sr_no','data.error_reason','data.R_voltage','data.Y_volatge',\n",
    "'data.B_voltage', 'data.r_current', 'data.y_current','data.b_current','site_id',\n",
    "'location_id','data.cumm_pf','data.instant_cum_Kw', 'data.instant_cum_Kva','data.frequency']]\n",
    "# combined_df['data.cumm_pf'].plot(figsize=(18,5))\n",
    "\n",
    "# checks\n",
    "# Status \"P\"\n",
    "combined_df=d_frame[d_frame['data.status']== \"P\"]\n",
    "\n",
    "#no consumption\n",
    "combined_df.loc[combined_df['data.error_reason'] == 'No Consumption', 'data.grid_kwh_unit'] = 0\n",
    "\n",
    "# null values\n",
    "if combined_df.isnull().sum().sum()>0:\n",
    "    combined_df.dropna(inplace=True)\n",
    "\n",
    "# special character\n",
    "def special_char():\n",
    "    special_character_pattern = r'[!@#$%^&*()]'\n",
    "    rows_with_special_chars = combined_df[combined_df['location_id'].str.contains(special_character_pattern, regex=True)]\n",
    "    return ( rows_with_special_chars)\n",
    "if combined_df['location_id'].dtype != 'int64':\n",
    "    special_char()\n",
    "\n",
    "#  creation time relabelling \n",
    "# combined_df['data.creation_time']=pd.to_datetime(combined_df['data.creation_time'])\n",
    "\n",
    "# integer conversion\n",
    "combined_df['data.grid_reading_kwh']=combined_df['data.grid_reading_kwh'].round()\n",
    "\n",
    "\n",
    "final_lst=[]\n",
    "for each_id in id:\n",
    "    df=combined_df[combined_df['location_id'] == each_id ]\n",
    "    df['data.creation_time']=pd.to_datetime(df['data.creation_time'])\n",
    "    df.set_index(['data.creation_time'],drop=True, inplace=True)\n",
    "    \n",
    "    # dfresample=df[['data.grid_reading_kwh']].resample(rule='1H').max()\n",
    "\n",
    "    # df['units']=round((df['data.grid_reading_kwh']-df['data.grid_reading_kwh'].shift(1)),2)\n",
    "    # df.dropna(inplace=True)\n",
    "    # df = df[df['units'] >= 0]\n",
    "    df_resample=df[['data.grid_reading_kwh']].resample(rule='1H').max()\n",
    "    df_resample['data.grid_reading_kwh'].interpolate(inplace=True)\n",
    "    df_resample['grid_reading']=round(df_resample['data.grid_reading_kwh'])\n",
    "    # df_resample['unit']=df_resample['grid_reading']-df_resample['grid_reading'].shift(1)\n",
    "    # df_resample = df_resample[df_resample['unit'] >= 0]\n",
    "    \n",
    "    \n",
    "    \n",
    "\n",
    "    final_lst.append(df_resample)\n",
    "\n",
    "final_df = pd.concat(final_lst)\n"
   ]
  },
  {
   "cell_type": "code",
   "execution_count": 2,
   "metadata": {},
   "outputs": [],
   "source": [
    "df=final_lst[4]\n"
   ]
  },
  {
   "cell_type": "code",
   "execution_count": 4,
   "metadata": {},
   "outputs": [
    {
     "data": {
      "text/html": [
       "<div>\n",
       "<style scoped>\n",
       "    .dataframe tbody tr th:only-of-type {\n",
       "        vertical-align: middle;\n",
       "    }\n",
       "\n",
       "    .dataframe tbody tr th {\n",
       "        vertical-align: top;\n",
       "    }\n",
       "\n",
       "    .dataframe thead th {\n",
       "        text-align: right;\n",
       "    }\n",
       "</style>\n",
       "<table border=\"1\" class=\"dataframe\">\n",
       "  <thead>\n",
       "    <tr style=\"text-align: right;\">\n",
       "      <th></th>\n",
       "      <th>grid_reading</th>\n",
       "    </tr>\n",
       "    <tr>\n",
       "      <th>data.creation_time</th>\n",
       "      <th></th>\n",
       "    </tr>\n",
       "  </thead>\n",
       "  <tbody>\n",
       "    <tr>\n",
       "      <th>2021-05-01 00:00:00</th>\n",
       "      <td>463.0</td>\n",
       "    </tr>\n",
       "    <tr>\n",
       "      <th>2021-05-01 01:00:00</th>\n",
       "      <td>467.0</td>\n",
       "    </tr>\n",
       "    <tr>\n",
       "      <th>2021-05-01 02:00:00</th>\n",
       "      <td>470.0</td>\n",
       "    </tr>\n",
       "    <tr>\n",
       "      <th>2021-05-01 03:00:00</th>\n",
       "      <td>473.0</td>\n",
       "    </tr>\n",
       "    <tr>\n",
       "      <th>2021-05-01 04:00:00</th>\n",
       "      <td>477.0</td>\n",
       "    </tr>\n",
       "    <tr>\n",
       "      <th>...</th>\n",
       "      <td>...</td>\n",
       "    </tr>\n",
       "    <tr>\n",
       "      <th>2023-08-17 19:00:00</th>\n",
       "      <td>21673.0</td>\n",
       "    </tr>\n",
       "    <tr>\n",
       "      <th>2023-08-17 20:00:00</th>\n",
       "      <td>21674.0</td>\n",
       "    </tr>\n",
       "    <tr>\n",
       "      <th>2023-08-17 21:00:00</th>\n",
       "      <td>21676.0</td>\n",
       "    </tr>\n",
       "    <tr>\n",
       "      <th>2023-08-17 22:00:00</th>\n",
       "      <td>21679.0</td>\n",
       "    </tr>\n",
       "    <tr>\n",
       "      <th>2023-08-17 23:00:00</th>\n",
       "      <td>21681.0</td>\n",
       "    </tr>\n",
       "  </tbody>\n",
       "</table>\n",
       "<p>20136 rows × 1 columns</p>\n",
       "</div>"
      ],
      "text/plain": [
       "                     grid_reading\n",
       "data.creation_time               \n",
       "2021-05-01 00:00:00         463.0\n",
       "2021-05-01 01:00:00         467.0\n",
       "2021-05-01 02:00:00         470.0\n",
       "2021-05-01 03:00:00         473.0\n",
       "2021-05-01 04:00:00         477.0\n",
       "...                           ...\n",
       "2023-08-17 19:00:00       21673.0\n",
       "2023-08-17 20:00:00       21674.0\n",
       "2023-08-17 21:00:00       21676.0\n",
       "2023-08-17 22:00:00       21679.0\n",
       "2023-08-17 23:00:00       21681.0\n",
       "\n",
       "[20136 rows x 1 columns]"
      ]
     },
     "execution_count": 4,
     "metadata": {},
     "output_type": "execute_result"
    }
   ],
   "source": [
    "df_resample.drop(['data.grid_reading_kwh'],axis=1,inplace=True)\n",
    "df"
   ]
  },
  {
   "cell_type": "code",
   "execution_count": null,
   "metadata": {},
   "outputs": [],
   "source": [
    "plt.rcParams[\"figure.figsize\"] = (20,5)"
   ]
  },
  {
   "cell_type": "code",
   "execution_count": null,
   "metadata": {},
   "outputs": [],
   "source": [
    "plt.plot(df['grid_reading'])"
   ]
  },
  {
   "cell_type": "code",
   "execution_count": null,
   "metadata": {},
   "outputs": [],
   "source": [
    "from statsmodels.tsa.seasonal import seasonal_decompose\n",
    "from dateutil.parser import parse\n",
    "import pandas as pd\n",
    "from statsmodels.tsa.stattools import adfuller"
   ]
  },
  {
   "cell_type": "code",
   "execution_count": null,
   "metadata": {},
   "outputs": [],
   "source": [
    "add_resut=seasonal_decompose(df['grid_reading'],model='additive',period=24)"
   ]
  },
  {
   "cell_type": "code",
   "execution_count": null,
   "metadata": {},
   "outputs": [],
   "source": [
    "add_resut.plot().suptitle('\\n additive',fontsize=12)"
   ]
  },
  {
   "cell_type": "code",
   "execution_count": null,
   "metadata": {},
   "outputs": [],
   "source": [
    "df=pd.concat([add_resut.seasonal,add_resut.trend,add_resut.resid,add_resut.observed],axis=1)\n",
    "df.columns=[\"seasonal\",'trend','resid','actual_value']\n",
    "df"
   ]
  },
  {
   "cell_type": "code",
   "execution_count": null,
   "metadata": {},
   "outputs": [],
   "source": []
  },
  {
   "cell_type": "code",
   "execution_count": null,
   "metadata": {},
   "outputs": [],
   "source": []
  },
  {
   "cell_type": "code",
   "execution_count": null,
   "metadata": {},
   "outputs": [],
   "source": [
    "result=adfuller(df['actual_value'],autolag='AIC')"
   ]
  },
  {
   "cell_type": "code",
   "execution_count": null,
   "metadata": {},
   "outputs": [],
   "source": [
    "result"
   ]
  },
  {
   "cell_type": "code",
   "execution_count": null,
   "metadata": {},
   "outputs": [],
   "source": [
    "print('ADF Statistic:', result[0])\n",
    "print('p-value:', result[1])\n",
    "print('Critical Values:', result[4])"
   ]
  },
  {
   "cell_type": "code",
   "execution_count": 5,
   "metadata": {},
   "outputs": [
    {
     "data": {
      "text/html": [
       "<div>\n",
       "<style scoped>\n",
       "    .dataframe tbody tr th:only-of-type {\n",
       "        vertical-align: middle;\n",
       "    }\n",
       "\n",
       "    .dataframe tbody tr th {\n",
       "        vertical-align: top;\n",
       "    }\n",
       "\n",
       "    .dataframe thead th {\n",
       "        text-align: right;\n",
       "    }\n",
       "</style>\n",
       "<table border=\"1\" class=\"dataframe\">\n",
       "  <thead>\n",
       "    <tr style=\"text-align: right;\">\n",
       "      <th></th>\n",
       "      <th>grid_reading</th>\n",
       "    </tr>\n",
       "    <tr>\n",
       "      <th>data.creation_time</th>\n",
       "      <th></th>\n",
       "    </tr>\n",
       "  </thead>\n",
       "  <tbody>\n",
       "    <tr>\n",
       "      <th>2021-05-01 00:00:00</th>\n",
       "      <td>463.0</td>\n",
       "    </tr>\n",
       "    <tr>\n",
       "      <th>2021-05-01 01:00:00</th>\n",
       "      <td>467.0</td>\n",
       "    </tr>\n",
       "    <tr>\n",
       "      <th>2021-05-01 02:00:00</th>\n",
       "      <td>470.0</td>\n",
       "    </tr>\n",
       "    <tr>\n",
       "      <th>2021-05-01 03:00:00</th>\n",
       "      <td>473.0</td>\n",
       "    </tr>\n",
       "    <tr>\n",
       "      <th>2021-05-01 04:00:00</th>\n",
       "      <td>477.0</td>\n",
       "    </tr>\n",
       "    <tr>\n",
       "      <th>...</th>\n",
       "      <td>...</td>\n",
       "    </tr>\n",
       "    <tr>\n",
       "      <th>2023-08-17 19:00:00</th>\n",
       "      <td>21673.0</td>\n",
       "    </tr>\n",
       "    <tr>\n",
       "      <th>2023-08-17 20:00:00</th>\n",
       "      <td>21674.0</td>\n",
       "    </tr>\n",
       "    <tr>\n",
       "      <th>2023-08-17 21:00:00</th>\n",
       "      <td>21676.0</td>\n",
       "    </tr>\n",
       "    <tr>\n",
       "      <th>2023-08-17 22:00:00</th>\n",
       "      <td>21679.0</td>\n",
       "    </tr>\n",
       "    <tr>\n",
       "      <th>2023-08-17 23:00:00</th>\n",
       "      <td>21681.0</td>\n",
       "    </tr>\n",
       "  </tbody>\n",
       "</table>\n",
       "<p>20136 rows × 1 columns</p>\n",
       "</div>"
      ],
      "text/plain": [
       "                     grid_reading\n",
       "data.creation_time               \n",
       "2021-05-01 00:00:00         463.0\n",
       "2021-05-01 01:00:00         467.0\n",
       "2021-05-01 02:00:00         470.0\n",
       "2021-05-01 03:00:00         473.0\n",
       "2021-05-01 04:00:00         477.0\n",
       "...                           ...\n",
       "2023-08-17 19:00:00       21673.0\n",
       "2023-08-17 20:00:00       21674.0\n",
       "2023-08-17 21:00:00       21676.0\n",
       "2023-08-17 22:00:00       21679.0\n",
       "2023-08-17 23:00:00       21681.0\n",
       "\n",
       "[20136 rows x 1 columns]"
      ]
     },
     "execution_count": 5,
     "metadata": {},
     "output_type": "execute_result"
    }
   ],
   "source": [
    "df"
   ]
  },
  {
   "cell_type": "code",
   "execution_count": 8,
   "metadata": {},
   "outputs": [
    {
     "ename": "AttributeError",
     "evalue": "'numpy.ndarray' object has no attribute 'plot'",
     "output_type": "error",
     "traceback": [
      "\u001b[1;31m---------------------------------------------------------------------------\u001b[0m",
      "\u001b[1;31mAttributeError\u001b[0m                            Traceback (most recent call last)",
      "\u001b[1;32md:\\Harsh_git\\Test\\Code\\Test2.ipynb Cell 16\u001b[0m line \u001b[0;36m2\n\u001b[0;32m     <a href='vscode-notebook-cell:/d%3A/Harsh_git/Test/Code/Test2.ipynb#X22sZmlsZQ%3D%3D?line=11'>12</a>\u001b[0m plt\u001b[39m.\u001b[39mfigure(figsize\u001b[39m=\u001b[39m(\u001b[39m12\u001b[39m, \u001b[39m6\u001b[39m))\n\u001b[0;32m     <a href='vscode-notebook-cell:/d%3A/Harsh_git/Test/Code/Test2.ipynb#X22sZmlsZQ%3D%3D?line=13'>14</a>\u001b[0m \u001b[39m# # ACF plot\u001b[39;00m\n\u001b[0;32m     <a href='vscode-notebook-cell:/d%3A/Harsh_git/Test/Code/Test2.ipynb#X22sZmlsZQ%3D%3D?line=14'>15</a>\u001b[0m \u001b[39m# plt.subplot(1, 2, 1)\u001b[39;00m\n\u001b[0;32m     <a href='vscode-notebook-cell:/d%3A/Harsh_git/Test/Code/Test2.ipynb#X22sZmlsZQ%3D%3D?line=15'>16</a>\u001b[0m \u001b[39m# plt.plot(range(len(acf), acf))\u001b[39;00m\n\u001b[1;32m   (...)\u001b[0m\n\u001b[0;32m     <a href='vscode-notebook-cell:/d%3A/Harsh_git/Test/Code/Test2.ipynb#X22sZmlsZQ%3D%3D?line=22'>23</a>\u001b[0m \n\u001b[0;32m     <a href='vscode-notebook-cell:/d%3A/Harsh_git/Test/Code/Test2.ipynb#X22sZmlsZQ%3D%3D?line=23'>24</a>\u001b[0m \u001b[39m# plt.show()\u001b[39;00m\n\u001b[1;32m---> <a href='vscode-notebook-cell:/d%3A/Harsh_git/Test/Code/Test2.ipynb#X22sZmlsZQ%3D%3D?line=24'>25</a>\u001b[0m acf\u001b[39m.\u001b[39;49mplot()\n",
      "\u001b[1;31mAttributeError\u001b[0m: 'numpy.ndarray' object has no attribute 'plot'"
     ]
    },
    {
     "data": {
      "text/plain": [
       "<Figure size 1200x600 with 0 Axes>"
      ]
     },
     "metadata": {},
     "output_type": "display_data"
    }
   ],
   "source": [
    "import statsmodels.api as sm\n",
    "import matplotlib.pyplot as plt\n",
    "\n",
    "# Assuming you have a time series data called 'time_series_data'\n",
    "# Replace this with your actual time series data\n",
    "\n",
    "# Calculate ACF and PACF\n",
    "acf = sm.tsa.acf(df['grid_reading'], nlags=40)  # Adjust the number of lags as needed\n",
    "pacf = sm.tsa.pacf(df['grid_reading'], nlags=40)  # Adjust the number of lags as needed\n",
    "\n",
    "# Create ACF and PACF plots\n",
    "plt.figure(figsize=(12, 6))\n",
    "\n",
    "# # ACF plot\n",
    "# plt.subplot(1, 2, 1)\n",
    "# plt.plot(range(len(acf), acf))\n",
    "# plt.title('Autocorrelation Function (ACF)')\n",
    "\n",
    "# # PACF plot\n",
    "# plt.subplot(1, 2, 2)\n",
    "# plt.plot(range(len(pacf), pacf))\n",
    "# plt.title('Partial Autocorrelation Function (PACF')\n",
    "\n",
    "# plt.show()\n",
    "\n"
   ]
  },
  {
   "cell_type": "code",
   "execution_count": 10,
   "metadata": {},
   "outputs": [],
   "source": [
    "import statsmodels.api as sm\n",
    "from statsmodels.graphics.tsaplots import plot_acf, plot_pacf"
   ]
  },
  {
   "cell_type": "code",
   "execution_count": 13,
   "metadata": {},
   "outputs": [
    {
     "data": {
      "image/png": "[encoded data removed]",
      "text/plain": [
       "<Figure size 640x480 with 1 Axes>"
      ]
     },
     "metadata": {},
     "output_type": "display_data"
    },
    {
     "data": {
      "image/png": "[encoded data removed]",
      "text/plain": [
       "<Figure size 640x480 with 1 Axes>"
      ]
     },
     "metadata": {},
     "output_type": "display_data"
    }
   ],
   "source": [
    "plot_acf(df['grid_reading'], lags=7)\n",
    "plt.title(\"Autocorrelation Function (ACF)\")\n",
    "plt.show()\n",
    "\n",
    "# Plot the PACF\n",
    "plot_pacf(df['grid_reading'], lags=7)\n",
    "plt.title(\"Partial Autocorrelation Function (PACF)\")\n",
    "plt.show()"
   ]
  },
  {
   "cell_type": "code",
   "execution_count": null,
   "metadata": {},
   "outputs": [],
   "source": []
  }
 ],
 "metadata": {
  "kernelspec": {
   "display_name": "base",
   "language": "python",
   "name": "python3"
  },
  "language_info": {
   "codemirror_mode": {
    "name": "ipython",
    "version": 3
   },
   "file_extension": ".py",
   "mimetype": "text/x-python",
   "name": "python",
   "nbconvert_exporter": "python",
   "pygments_lexer": "ipython3",
   "version": "3.11.4"
  }
 },
 "nbformat": 4,
 "nbformat_minor": 2
}
